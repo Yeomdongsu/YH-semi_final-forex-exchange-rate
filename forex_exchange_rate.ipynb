{
 "cells": [
  {
   "cell_type": "code",
   "execution_count": 129,
   "id": "03bd8c76",
   "metadata": {},
   "outputs": [],
   "source": [
    "import pandas as pd\n",
    "import numpy as np\n",
    "import matplotlib.pyplot as plt\n",
    "import seaborn as sb\n",
    "\n",
    "from matplotlib.dates import MonthLocator, DateFormatter"
   ]
  },
  {
   "cell_type": "code",
   "execution_count": 3,
   "id": "e08fc06c",
   "metadata": {},
   "outputs": [],
   "source": [
    "df = pd.read_csv(\"./data/daily_forex_rates.csv\")"
   ]
  },
  {
   "cell_type": "code",
   "execution_count": 4,
   "id": "f61ca699",
   "metadata": {},
   "outputs": [
    {
     "data": {
      "text/html": [
       "<div>\n",
       "<style scoped>\n",
       "    .dataframe tbody tr th:only-of-type {\n",
       "        vertical-align: middle;\n",
       "    }\n",
       "\n",
       "    .dataframe tbody tr th {\n",
       "        vertical-align: top;\n",
       "    }\n",
       "\n",
       "    .dataframe thead th {\n",
       "        text-align: right;\n",
       "    }\n",
       "</style>\n",
       "<table border=\"1\" class=\"dataframe\">\n",
       "  <thead>\n",
       "    <tr style=\"text-align: right;\">\n",
       "      <th></th>\n",
       "      <th>currency</th>\n",
       "      <th>base_currency</th>\n",
       "      <th>currency_name</th>\n",
       "      <th>exchange_rate</th>\n",
       "      <th>date</th>\n",
       "    </tr>\n",
       "  </thead>\n",
       "  <tbody>\n",
       "    <tr>\n",
       "      <th>0</th>\n",
       "      <td>ZWL</td>\n",
       "      <td>EUR</td>\n",
       "      <td>Zimbabwean Dollar</td>\n",
       "      <td>350.552056</td>\n",
       "      <td>2023-11-22</td>\n",
       "    </tr>\n",
       "    <tr>\n",
       "      <th>1</th>\n",
       "      <td>GHS</td>\n",
       "      <td>EUR</td>\n",
       "      <td>Ghanaian Cedi</td>\n",
       "      <td>12.996958</td>\n",
       "      <td>2023-11-22</td>\n",
       "    </tr>\n",
       "    <tr>\n",
       "      <th>2</th>\n",
       "      <td>HRK</td>\n",
       "      <td>EUR</td>\n",
       "      <td>Croatian Kuna</td>\n",
       "      <td>7.665963</td>\n",
       "      <td>2023-11-22</td>\n",
       "    </tr>\n",
       "    <tr>\n",
       "      <th>3</th>\n",
       "      <td>HNL</td>\n",
       "      <td>EUR</td>\n",
       "      <td>Honduran Lempira</td>\n",
       "      <td>26.867725</td>\n",
       "      <td>2023-11-22</td>\n",
       "    </tr>\n",
       "    <tr>\n",
       "      <th>4</th>\n",
       "      <td>HKD</td>\n",
       "      <td>EUR</td>\n",
       "      <td>Hong Kong Dollar</td>\n",
       "      <td>8.487236</td>\n",
       "      <td>2023-11-22</td>\n",
       "    </tr>\n",
       "    <tr>\n",
       "      <th>...</th>\n",
       "      <td>...</td>\n",
       "      <td>...</td>\n",
       "      <td>...</td>\n",
       "      <td>...</td>\n",
       "      <td>...</td>\n",
       "    </tr>\n",
       "    <tr>\n",
       "      <th>320848</th>\n",
       "      <td>AUD</td>\n",
       "      <td>EUR</td>\n",
       "      <td>Australian Dollar</td>\n",
       "      <td>1.731500</td>\n",
       "      <td>2004-09-01</td>\n",
       "    </tr>\n",
       "    <tr>\n",
       "      <th>320849</th>\n",
       "      <td>AUD</td>\n",
       "      <td>EUR</td>\n",
       "      <td>Australian Dollar</td>\n",
       "      <td>1.729600</td>\n",
       "      <td>2004-08-31</td>\n",
       "    </tr>\n",
       "    <tr>\n",
       "      <th>320850</th>\n",
       "      <td>JPY</td>\n",
       "      <td>EUR</td>\n",
       "      <td>Japanese Yen</td>\n",
       "      <td>132.850000</td>\n",
       "      <td>2004-08-31</td>\n",
       "    </tr>\n",
       "    <tr>\n",
       "      <th>320851</th>\n",
       "      <td>CAD</td>\n",
       "      <td>EUR</td>\n",
       "      <td>Canadian Dollar</td>\n",
       "      <td>1.596700</td>\n",
       "      <td>2004-08-31</td>\n",
       "    </tr>\n",
       "    <tr>\n",
       "      <th>320852</th>\n",
       "      <td>AUD</td>\n",
       "      <td>EUR</td>\n",
       "      <td>Australian Dollar</td>\n",
       "      <td>1.723700</td>\n",
       "      <td>2004-08-30</td>\n",
       "    </tr>\n",
       "  </tbody>\n",
       "</table>\n",
       "<p>320853 rows × 5 columns</p>\n",
       "</div>"
      ],
      "text/plain": [
       "       currency base_currency      currency_name  exchange_rate        date\n",
       "0           ZWL           EUR  Zimbabwean Dollar     350.552056  2023-11-22\n",
       "1           GHS           EUR      Ghanaian Cedi      12.996958  2023-11-22\n",
       "2           HRK           EUR      Croatian Kuna       7.665963  2023-11-22\n",
       "3           HNL           EUR   Honduran Lempira      26.867725  2023-11-22\n",
       "4           HKD           EUR   Hong Kong Dollar       8.487236  2023-11-22\n",
       "...         ...           ...                ...            ...         ...\n",
       "320848      AUD           EUR  Australian Dollar       1.731500  2004-09-01\n",
       "320849      AUD           EUR  Australian Dollar       1.729600  2004-08-31\n",
       "320850      JPY           EUR       Japanese Yen     132.850000  2004-08-31\n",
       "320851      CAD           EUR    Canadian Dollar       1.596700  2004-08-31\n",
       "320852      AUD           EUR  Australian Dollar       1.723700  2004-08-30\n",
       "\n",
       "[320853 rows x 5 columns]"
      ]
     },
     "execution_count": 4,
     "metadata": {},
     "output_type": "execute_result"
    }
   ],
   "source": [
    "df"
   ]
  },
  {
   "cell_type": "code",
   "execution_count": 5,
   "id": "44fc1601",
   "metadata": {},
   "outputs": [
    {
     "data": {
      "text/plain": [
       "(320853, 5)"
      ]
     },
     "execution_count": 5,
     "metadata": {},
     "output_type": "execute_result"
    }
   ],
   "source": [
    "df.shape"
   ]
  },
  {
   "cell_type": "code",
   "execution_count": 6,
   "id": "a65c1690",
   "metadata": {},
   "outputs": [
    {
     "data": {
      "text/plain": [
       "currency         0\n",
       "base_currency    0\n",
       "currency_name    0\n",
       "exchange_rate    0\n",
       "date             0\n",
       "dtype: int64"
      ]
     },
     "execution_count": 6,
     "metadata": {},
     "output_type": "execute_result"
    }
   ],
   "source": [
    "df.isna().sum()"
   ]
  },
  {
   "cell_type": "code",
   "execution_count": 7,
   "id": "5feac272",
   "metadata": {},
   "outputs": [
    {
     "name": "stdout",
     "output_type": "stream",
     "text": [
      "<class 'pandas.core.frame.DataFrame'>\n",
      "RangeIndex: 320853 entries, 0 to 320852\n",
      "Data columns (total 5 columns):\n",
      " #   Column         Non-Null Count   Dtype  \n",
      "---  ------         --------------   -----  \n",
      " 0   currency       320853 non-null  object \n",
      " 1   base_currency  320853 non-null  object \n",
      " 2   currency_name  320853 non-null  object \n",
      " 3   exchange_rate  320853 non-null  float64\n",
      " 4   date           320853 non-null  object \n",
      "dtypes: float64(1), object(4)\n",
      "memory usage: 12.2+ MB\n"
     ]
    }
   ],
   "source": [
    "df.info()"
   ]
  },
  {
   "cell_type": "code",
   "execution_count": 8,
   "id": "bd721a89",
   "metadata": {},
   "outputs": [
    {
     "data": {
      "text/plain": [
       "168"
      ]
     },
     "execution_count": 8,
     "metadata": {},
     "output_type": "execute_result"
    }
   ],
   "source": [
    "df[\"currency_name\"].nunique() # 총 나라의 개수"
   ]
  },
  {
   "cell_type": "code",
   "execution_count": 9,
   "id": "3157527b",
   "metadata": {},
   "outputs": [
    {
     "data": {
      "text/plain": [
       "array(['Zimbabwean Dollar', 'Ghanaian Cedi', 'Croatian Kuna',\n",
       "       'Honduran Lempira', 'Hong Kong Dollar', 'Guyanaese Dollar',\n",
       "       'Guatemalan Quetzal', 'Guinean Franc', 'Gambian Dalasi',\n",
       "       'Gibraltar Pound', 'Guernsey Pound', 'Laotian Kip',\n",
       "       'Georgian Lari', 'British Pound Sterling',\n",
       "       'Falkland Islands Pound', 'Fijian Dollar', 'Euro',\n",
       "       'Ethiopian Birr', 'Eritrean Nakfa', 'Egyptian Pound',\n",
       "       'Haitian Gourde', 'Hungarian Forint', 'Indonesian Rupiah',\n",
       "       'Israeli New Sheqel', 'Cayman Islands Dollar', 'Kuwaiti Dinar',\n",
       "       'South Korean Won', 'North Korean Won', 'Comorian Franc',\n",
       "       'Cambodian Riel', 'Kyrgystani Som', 'Kenyan Shilling',\n",
       "       'Japanese Yen', 'Jordanian Dinar', 'Jamaican Dollar',\n",
       "       'Jersey Pound', 'Icelandic Króna', 'Iranian Rial', 'Iraqi Dinar',\n",
       "       'Indian Rupee', 'Manx pound', 'Algerian Dinar', 'Dominican Peso',\n",
       "       'Danish Krone', 'Brazilian Real', 'Brunei Dollar',\n",
       "       'Bermudan Dollar', 'Burundian Franc', 'Bahraini Dinar',\n",
       "       'Bulgarian Lev', 'Bangladeshi Taka', 'Barbadian Dollar',\n",
       "       'Bosnia-Herzegovina Convertible Mark', 'Azerbaijani Manat',\n",
       "       'Aruban Florin', 'Australian Dollar', 'Argentine Peso',\n",
       "       'Angolan Kwanza', 'Netherlands Antillean Guilder', 'Armenian Dram',\n",
       "       'Albanian Lek', 'Afghan Afghani', 'Bolivian Boliviano',\n",
       "       'Bahamian Dollar', 'Djiboutian Franc', 'Bitcoin',\n",
       "       'Czech Republic Koruna', 'Cape Verdean Escudo', 'Cuban Peso',\n",
       "       'Cuban Convertible Peso', 'Costa Rican Colón', 'Colombian Peso',\n",
       "       'Chinese Yuan', 'Chilean Peso', 'Chilean Unit of Account (UF)',\n",
       "       'Swiss Franc', 'Congolese Franc', 'Canadian Dollar',\n",
       "       'Belize Dollar', 'Belarusian Ruble', 'New Belarusian Ruble',\n",
       "       'Botswanan Pula', 'Bhutanese Ngultrum', 'Kazakhstani Tenge',\n",
       "       'Lebanese Pound', 'Seychellois Rupee', 'Thai Baht',\n",
       "       'Tanzanian Shilling', 'New Taiwan Dollar',\n",
       "       'Trinidad and Tobago Dollar', 'Turkish Lira', 'Tongan Paʻanga',\n",
       "       'Tunisian Dinar', 'Turkmenistani Manat', 'Tajikistani Somoni',\n",
       "       'Swazi Lilangeni', 'South Sudanese Pound', 'Syrian Pound',\n",
       "       'São Tomé and Príncipe Dobra', 'Surinamese Dollar',\n",
       "       'Somali Shilling', 'Sierra Leonean Leone', 'Saint Helena Pound',\n",
       "       'Singapore Dollar', 'Ukrainian Hryvnia', 'Ugandan Shilling',\n",
       "       'United States Dollar', 'Uruguayan Peso', 'Zambian Kwacha',\n",
       "       'Zambian Kwacha (pre-2013)', 'South African Rand', 'Yemeni Rial',\n",
       "       'CFP Franc', 'CFA Franc BCEAO', 'Special Drawing Rights',\n",
       "       'East Caribbean Dollar', 'Gold (troy ounce)',\n",
       "       'Silver (troy ounce)', 'CFA Franc BEAC', 'Samoan Tala',\n",
       "       'Vanuatu Vatu', 'Vietnamese Dong', 'Sovereign Bolivar',\n",
       "       'Venezuelan Bolívar Fuerte', 'Uzbekistan Som', 'Swedish Krona',\n",
       "       'United Arab Emirates Dirham', 'Sri Lankan Rupee', 'Myanma Kyat',\n",
       "       'Malaysian Ringgit', 'Mexican Peso', 'Malawian Kwacha',\n",
       "       'Maldivian Rufiyaa', 'Mauritian Rupee', 'Mauritanian Ouguiya',\n",
       "       'Macanese Pataca', 'Mongolian Tugrik', 'Macedonian Denar',\n",
       "       'Solomon Islands Dollar', 'Malagasy Ariary', 'Moldovan Leu',\n",
       "       'Moroccan Dirham', 'Libyan Dinar', 'Latvian Lats',\n",
       "       'Lithuanian Litas', 'Lesotho Loti', 'Liberian Dollar',\n",
       "       'Mozambican Metical', 'Namibian Dollar', 'Nigerian Naira',\n",
       "       'Nicaraguan Córdoba', 'Saudi Riyal', 'Rwandan Franc',\n",
       "       'Russian Ruble', 'Serbian Dinar', 'Romanian Leu', 'Qatari Rial',\n",
       "       'Paraguayan Guarani', 'Polish Zloty', 'Pakistani Rupee',\n",
       "       'Philippine Peso', 'Papua New Guinean Kina', 'Peruvian Nuevo Sol',\n",
       "       'Panamanian Balboa', 'Omani Rial', 'New Zealand Dollar',\n",
       "       'Nepalese Rupee', 'Norwegian Krone'], dtype=object)"
      ]
     },
     "execution_count": 9,
     "metadata": {},
     "output_type": "execute_result"
    }
   ],
   "source": [
    "df[\"currency_name\"].unique()"
   ]
  },
  {
   "cell_type": "code",
   "execution_count": 10,
   "id": "b8dbe0fc",
   "metadata": {},
   "outputs": [
    {
     "data": {
      "text/html": [
       "<div>\n",
       "<style scoped>\n",
       "    .dataframe tbody tr th:only-of-type {\n",
       "        vertical-align: middle;\n",
       "    }\n",
       "\n",
       "    .dataframe tbody tr th {\n",
       "        vertical-align: top;\n",
       "    }\n",
       "\n",
       "    .dataframe thead th {\n",
       "        text-align: right;\n",
       "    }\n",
       "</style>\n",
       "<table border=\"1\" class=\"dataframe\">\n",
       "  <thead>\n",
       "    <tr style=\"text-align: right;\">\n",
       "      <th></th>\n",
       "      <th>currency</th>\n",
       "      <th>base_currency</th>\n",
       "      <th>currency_name</th>\n",
       "      <th>exchange_rate</th>\n",
       "      <th>date</th>\n",
       "    </tr>\n",
       "  </thead>\n",
       "  <tbody>\n",
       "    <tr>\n",
       "      <th>26</th>\n",
       "      <td>KRW</td>\n",
       "      <td>EUR</td>\n",
       "      <td>South Korean Won</td>\n",
       "      <td>1409.373051</td>\n",
       "      <td>2023-11-22</td>\n",
       "    </tr>\n",
       "    <tr>\n",
       "      <th>27</th>\n",
       "      <td>KPW</td>\n",
       "      <td>EUR</td>\n",
       "      <td>North Korean Won</td>\n",
       "      <td>979.857719</td>\n",
       "      <td>2023-11-22</td>\n",
       "    </tr>\n",
       "    <tr>\n",
       "      <th>250</th>\n",
       "      <td>KPW</td>\n",
       "      <td>EUR</td>\n",
       "      <td>North Korean Won</td>\n",
       "      <td>982.095220</td>\n",
       "      <td>2023-11-21</td>\n",
       "    </tr>\n",
       "    <tr>\n",
       "      <th>251</th>\n",
       "      <td>KRW</td>\n",
       "      <td>EUR</td>\n",
       "      <td>South Korean Won</td>\n",
       "      <td>1414.190302</td>\n",
       "      <td>2023-11-21</td>\n",
       "    </tr>\n",
       "    <tr>\n",
       "      <th>369</th>\n",
       "      <td>KRW</td>\n",
       "      <td>EUR</td>\n",
       "      <td>South Korean Won</td>\n",
       "      <td>1408.431201</td>\n",
       "      <td>2023-11-20</td>\n",
       "    </tr>\n",
       "    <tr>\n",
       "      <th>...</th>\n",
       "      <td>...</td>\n",
       "      <td>...</td>\n",
       "      <td>...</td>\n",
       "      <td>...</td>\n",
       "      <td>...</td>\n",
       "    </tr>\n",
       "    <tr>\n",
       "      <th>300960</th>\n",
       "      <td>KRW</td>\n",
       "      <td>EUR</td>\n",
       "      <td>South Korean Won</td>\n",
       "      <td>1361.300050</td>\n",
       "      <td>2014-11-13</td>\n",
       "    </tr>\n",
       "    <tr>\n",
       "      <th>300978</th>\n",
       "      <td>KRW</td>\n",
       "      <td>EUR</td>\n",
       "      <td>South Korean Won</td>\n",
       "      <td>1356.900020</td>\n",
       "      <td>2014-11-12</td>\n",
       "    </tr>\n",
       "    <tr>\n",
       "      <th>301058</th>\n",
       "      <td>KRW</td>\n",
       "      <td>EUR</td>\n",
       "      <td>South Korean Won</td>\n",
       "      <td>1365.199950</td>\n",
       "      <td>2014-11-11</td>\n",
       "    </tr>\n",
       "    <tr>\n",
       "      <th>301105</th>\n",
       "      <td>KRW</td>\n",
       "      <td>EUR</td>\n",
       "      <td>South Korean Won</td>\n",
       "      <td>1347.099980</td>\n",
       "      <td>2014-11-10</td>\n",
       "    </tr>\n",
       "    <tr>\n",
       "      <th>301130</th>\n",
       "      <td>KRW</td>\n",
       "      <td>EUR</td>\n",
       "      <td>South Korean Won</td>\n",
       "      <td>1351.800050</td>\n",
       "      <td>2014-11-07</td>\n",
       "    </tr>\n",
       "  </tbody>\n",
       "</table>\n",
       "<p>2388 rows × 5 columns</p>\n",
       "</div>"
      ],
      "text/plain": [
       "       currency base_currency     currency_name  exchange_rate        date\n",
       "26          KRW           EUR  South Korean Won    1409.373051  2023-11-22\n",
       "27          KPW           EUR  North Korean Won     979.857719  2023-11-22\n",
       "250         KPW           EUR  North Korean Won     982.095220  2023-11-21\n",
       "251         KRW           EUR  South Korean Won    1414.190302  2023-11-21\n",
       "369         KRW           EUR  South Korean Won    1408.431201  2023-11-20\n",
       "...         ...           ...               ...            ...         ...\n",
       "300960      KRW           EUR  South Korean Won    1361.300050  2014-11-13\n",
       "300978      KRW           EUR  South Korean Won    1356.900020  2014-11-12\n",
       "301058      KRW           EUR  South Korean Won    1365.199950  2014-11-11\n",
       "301105      KRW           EUR  South Korean Won    1347.099980  2014-11-10\n",
       "301130      KRW           EUR  South Korean Won    1351.800050  2014-11-07\n",
       "\n",
       "[2388 rows x 5 columns]"
      ]
     },
     "execution_count": 10,
     "metadata": {},
     "output_type": "execute_result"
    }
   ],
   "source": [
    "df.loc[df[\"currency_name\"].str.contains(\"korea\",case=False )]"
   ]
  },
  {
   "cell_type": "code",
   "execution_count": 11,
   "id": "c4440110",
   "metadata": {},
   "outputs": [
    {
     "data": {
      "text/plain": [
       "168"
      ]
     },
     "execution_count": 11,
     "metadata": {},
     "output_type": "execute_result"
    }
   ],
   "source": [
    "len(df[\"currency_name\"].unique())"
   ]
  },
  {
   "cell_type": "code",
   "execution_count": 12,
   "id": "dc956034",
   "metadata": {},
   "outputs": [
    {
     "data": {
      "text/html": [
       "<div>\n",
       "<style scoped>\n",
       "    .dataframe tbody tr th:only-of-type {\n",
       "        vertical-align: middle;\n",
       "    }\n",
       "\n",
       "    .dataframe tbody tr th {\n",
       "        vertical-align: top;\n",
       "    }\n",
       "\n",
       "    .dataframe thead th {\n",
       "        text-align: right;\n",
       "    }\n",
       "</style>\n",
       "<table border=\"1\" class=\"dataframe\">\n",
       "  <thead>\n",
       "    <tr style=\"text-align: right;\">\n",
       "      <th></th>\n",
       "      <th>currency</th>\n",
       "      <th>base_currency</th>\n",
       "      <th>currency_name</th>\n",
       "      <th>exchange_rate</th>\n",
       "      <th>date</th>\n",
       "    </tr>\n",
       "  </thead>\n",
       "  <tbody>\n",
       "    <tr>\n",
       "      <th>0</th>\n",
       "      <td>ZWL</td>\n",
       "      <td>EUR</td>\n",
       "      <td>Zimbabwean Dollar</td>\n",
       "      <td>350.552056</td>\n",
       "      <td>2023-11-22</td>\n",
       "    </tr>\n",
       "    <tr>\n",
       "      <th>1</th>\n",
       "      <td>GHS</td>\n",
       "      <td>EUR</td>\n",
       "      <td>Ghanaian Cedi</td>\n",
       "      <td>12.996958</td>\n",
       "      <td>2023-11-22</td>\n",
       "    </tr>\n",
       "    <tr>\n",
       "      <th>2</th>\n",
       "      <td>HRK</td>\n",
       "      <td>EUR</td>\n",
       "      <td>Croatian Kuna</td>\n",
       "      <td>7.665963</td>\n",
       "      <td>2023-11-22</td>\n",
       "    </tr>\n",
       "    <tr>\n",
       "      <th>3</th>\n",
       "      <td>HNL</td>\n",
       "      <td>EUR</td>\n",
       "      <td>Honduran Lempira</td>\n",
       "      <td>26.867725</td>\n",
       "      <td>2023-11-22</td>\n",
       "    </tr>\n",
       "    <tr>\n",
       "      <th>4</th>\n",
       "      <td>HKD</td>\n",
       "      <td>EUR</td>\n",
       "      <td>Hong Kong Dollar</td>\n",
       "      <td>8.487236</td>\n",
       "      <td>2023-11-22</td>\n",
       "    </tr>\n",
       "    <tr>\n",
       "      <th>...</th>\n",
       "      <td>...</td>\n",
       "      <td>...</td>\n",
       "      <td>...</td>\n",
       "      <td>...</td>\n",
       "      <td>...</td>\n",
       "    </tr>\n",
       "    <tr>\n",
       "      <th>320848</th>\n",
       "      <td>AUD</td>\n",
       "      <td>EUR</td>\n",
       "      <td>Australian Dollar</td>\n",
       "      <td>1.731500</td>\n",
       "      <td>2004-09-01</td>\n",
       "    </tr>\n",
       "    <tr>\n",
       "      <th>320849</th>\n",
       "      <td>AUD</td>\n",
       "      <td>EUR</td>\n",
       "      <td>Australian Dollar</td>\n",
       "      <td>1.729600</td>\n",
       "      <td>2004-08-31</td>\n",
       "    </tr>\n",
       "    <tr>\n",
       "      <th>320850</th>\n",
       "      <td>JPY</td>\n",
       "      <td>EUR</td>\n",
       "      <td>Japanese Yen</td>\n",
       "      <td>132.850000</td>\n",
       "      <td>2004-08-31</td>\n",
       "    </tr>\n",
       "    <tr>\n",
       "      <th>320851</th>\n",
       "      <td>CAD</td>\n",
       "      <td>EUR</td>\n",
       "      <td>Canadian Dollar</td>\n",
       "      <td>1.596700</td>\n",
       "      <td>2004-08-31</td>\n",
       "    </tr>\n",
       "    <tr>\n",
       "      <th>320852</th>\n",
       "      <td>AUD</td>\n",
       "      <td>EUR</td>\n",
       "      <td>Australian Dollar</td>\n",
       "      <td>1.723700</td>\n",
       "      <td>2004-08-30</td>\n",
       "    </tr>\n",
       "  </tbody>\n",
       "</table>\n",
       "<p>320853 rows × 5 columns</p>\n",
       "</div>"
      ],
      "text/plain": [
       "       currency base_currency      currency_name  exchange_rate        date\n",
       "0           ZWL           EUR  Zimbabwean Dollar     350.552056  2023-11-22\n",
       "1           GHS           EUR      Ghanaian Cedi      12.996958  2023-11-22\n",
       "2           HRK           EUR      Croatian Kuna       7.665963  2023-11-22\n",
       "3           HNL           EUR   Honduran Lempira      26.867725  2023-11-22\n",
       "4           HKD           EUR   Hong Kong Dollar       8.487236  2023-11-22\n",
       "...         ...           ...                ...            ...         ...\n",
       "320848      AUD           EUR  Australian Dollar       1.731500  2004-09-01\n",
       "320849      AUD           EUR  Australian Dollar       1.729600  2004-08-31\n",
       "320850      JPY           EUR       Japanese Yen     132.850000  2004-08-31\n",
       "320851      CAD           EUR    Canadian Dollar       1.596700  2004-08-31\n",
       "320852      AUD           EUR  Australian Dollar       1.723700  2004-08-30\n",
       "\n",
       "[320853 rows x 5 columns]"
      ]
     },
     "execution_count": 12,
     "metadata": {},
     "output_type": "execute_result"
    }
   ],
   "source": [
    "df"
   ]
  },
  {
   "cell_type": "code",
   "execution_count": 13,
   "id": "9e983f3f",
   "metadata": {},
   "outputs": [
    {
     "data": {
      "text/html": [
       "<div>\n",
       "<style scoped>\n",
       "    .dataframe tbody tr th:only-of-type {\n",
       "        vertical-align: middle;\n",
       "    }\n",
       "\n",
       "    .dataframe tbody tr th {\n",
       "        vertical-align: top;\n",
       "    }\n",
       "\n",
       "    .dataframe thead th {\n",
       "        text-align: right;\n",
       "    }\n",
       "</style>\n",
       "<table border=\"1\" class=\"dataframe\">\n",
       "  <thead>\n",
       "    <tr style=\"text-align: right;\">\n",
       "      <th></th>\n",
       "      <th>currency</th>\n",
       "      <th>base_currency</th>\n",
       "      <th>currency_name</th>\n",
       "      <th>exchange_rate</th>\n",
       "      <th>date</th>\n",
       "    </tr>\n",
       "  </thead>\n",
       "  <tbody>\n",
       "    <tr>\n",
       "      <th>26</th>\n",
       "      <td>KRW</td>\n",
       "      <td>EUR</td>\n",
       "      <td>South Korean Won</td>\n",
       "      <td>1409.373051</td>\n",
       "      <td>2023-11-22</td>\n",
       "    </tr>\n",
       "    <tr>\n",
       "      <th>251</th>\n",
       "      <td>KRW</td>\n",
       "      <td>EUR</td>\n",
       "      <td>South Korean Won</td>\n",
       "      <td>1414.190302</td>\n",
       "      <td>2023-11-21</td>\n",
       "    </tr>\n",
       "    <tr>\n",
       "      <th>369</th>\n",
       "      <td>KRW</td>\n",
       "      <td>EUR</td>\n",
       "      <td>South Korean Won</td>\n",
       "      <td>1408.431201</td>\n",
       "      <td>2023-11-20</td>\n",
       "    </tr>\n",
       "    <tr>\n",
       "      <th>592</th>\n",
       "      <td>KRW</td>\n",
       "      <td>EUR</td>\n",
       "      <td>South Korean Won</td>\n",
       "      <td>1414.257704</td>\n",
       "      <td>2023-11-19</td>\n",
       "    </tr>\n",
       "    <tr>\n",
       "      <th>712</th>\n",
       "      <td>KRW</td>\n",
       "      <td>EUR</td>\n",
       "      <td>South Korean Won</td>\n",
       "      <td>1415.184533</td>\n",
       "      <td>2023-11-18</td>\n",
       "    </tr>\n",
       "    <tr>\n",
       "      <th>...</th>\n",
       "      <td>...</td>\n",
       "      <td>...</td>\n",
       "      <td>...</td>\n",
       "      <td>...</td>\n",
       "      <td>...</td>\n",
       "    </tr>\n",
       "    <tr>\n",
       "      <th>300960</th>\n",
       "      <td>KRW</td>\n",
       "      <td>EUR</td>\n",
       "      <td>South Korean Won</td>\n",
       "      <td>1361.300050</td>\n",
       "      <td>2014-11-13</td>\n",
       "    </tr>\n",
       "    <tr>\n",
       "      <th>300978</th>\n",
       "      <td>KRW</td>\n",
       "      <td>EUR</td>\n",
       "      <td>South Korean Won</td>\n",
       "      <td>1356.900020</td>\n",
       "      <td>2014-11-12</td>\n",
       "    </tr>\n",
       "    <tr>\n",
       "      <th>301058</th>\n",
       "      <td>KRW</td>\n",
       "      <td>EUR</td>\n",
       "      <td>South Korean Won</td>\n",
       "      <td>1365.199950</td>\n",
       "      <td>2014-11-11</td>\n",
       "    </tr>\n",
       "    <tr>\n",
       "      <th>301105</th>\n",
       "      <td>KRW</td>\n",
       "      <td>EUR</td>\n",
       "      <td>South Korean Won</td>\n",
       "      <td>1347.099980</td>\n",
       "      <td>2014-11-10</td>\n",
       "    </tr>\n",
       "    <tr>\n",
       "      <th>301130</th>\n",
       "      <td>KRW</td>\n",
       "      <td>EUR</td>\n",
       "      <td>South Korean Won</td>\n",
       "      <td>1351.800050</td>\n",
       "      <td>2014-11-07</td>\n",
       "    </tr>\n",
       "  </tbody>\n",
       "</table>\n",
       "<p>2364 rows × 5 columns</p>\n",
       "</div>"
      ],
      "text/plain": [
       "       currency base_currency     currency_name  exchange_rate        date\n",
       "26          KRW           EUR  South Korean Won    1409.373051  2023-11-22\n",
       "251         KRW           EUR  South Korean Won    1414.190302  2023-11-21\n",
       "369         KRW           EUR  South Korean Won    1408.431201  2023-11-20\n",
       "592         KRW           EUR  South Korean Won    1414.257704  2023-11-19\n",
       "712         KRW           EUR  South Korean Won    1415.184533  2023-11-18\n",
       "...         ...           ...               ...            ...         ...\n",
       "300960      KRW           EUR  South Korean Won    1361.300050  2014-11-13\n",
       "300978      KRW           EUR  South Korean Won    1356.900020  2014-11-12\n",
       "301058      KRW           EUR  South Korean Won    1365.199950  2014-11-11\n",
       "301105      KRW           EUR  South Korean Won    1347.099980  2014-11-10\n",
       "301130      KRW           EUR  South Korean Won    1351.800050  2014-11-07\n",
       "\n",
       "[2364 rows x 5 columns]"
      ]
     },
     "execution_count": 13,
     "metadata": {},
     "output_type": "execute_result"
    }
   ],
   "source": [
    "df.loc[df[\"currency_name\"] == \"South Korean Won\"]"
   ]
  },
  {
   "cell_type": "code",
   "execution_count": 14,
   "id": "d3a4713d",
   "metadata": {},
   "outputs": [
    {
     "data": {
      "text/html": [
       "<div>\n",
       "<style scoped>\n",
       "    .dataframe tbody tr th:only-of-type {\n",
       "        vertical-align: middle;\n",
       "    }\n",
       "\n",
       "    .dataframe tbody tr th {\n",
       "        vertical-align: top;\n",
       "    }\n",
       "\n",
       "    .dataframe thead th {\n",
       "        text-align: right;\n",
       "    }\n",
       "</style>\n",
       "<table border=\"1\" class=\"dataframe\">\n",
       "  <thead>\n",
       "    <tr style=\"text-align: right;\">\n",
       "      <th></th>\n",
       "      <th>currency</th>\n",
       "      <th>base_currency</th>\n",
       "      <th>currency_name</th>\n",
       "      <th>exchange_rate</th>\n",
       "      <th>date</th>\n",
       "    </tr>\n",
       "  </thead>\n",
       "  <tbody>\n",
       "    <tr>\n",
       "      <th>1859</th>\n",
       "      <td>AUD</td>\n",
       "      <td>EUR</td>\n",
       "      <td>Australian Dollar</td>\n",
       "      <td>1.684450</td>\n",
       "      <td>2023-11-10</td>\n",
       "    </tr>\n",
       "    <tr>\n",
       "      <th>1860</th>\n",
       "      <td>GHS</td>\n",
       "      <td>EUR</td>\n",
       "      <td>Ghanaian Cedi</td>\n",
       "      <td>12.793676</td>\n",
       "      <td>2023-11-10</td>\n",
       "    </tr>\n",
       "    <tr>\n",
       "      <th>1861</th>\n",
       "      <td>ARS</td>\n",
       "      <td>EUR</td>\n",
       "      <td>Argentine Peso</td>\n",
       "      <td>373.839740</td>\n",
       "      <td>2023-11-10</td>\n",
       "    </tr>\n",
       "    <tr>\n",
       "      <th>1862</th>\n",
       "      <td>ZWL</td>\n",
       "      <td>EUR</td>\n",
       "      <td>Zimbabwean Dollar</td>\n",
       "      <td>345.010367</td>\n",
       "      <td>2023-11-10</td>\n",
       "    </tr>\n",
       "    <tr>\n",
       "      <th>1863</th>\n",
       "      <td>CZK</td>\n",
       "      <td>EUR</td>\n",
       "      <td>Czech Republic Koruna</td>\n",
       "      <td>24.598096</td>\n",
       "      <td>2023-11-10</td>\n",
       "    </tr>\n",
       "    <tr>\n",
       "      <th>...</th>\n",
       "      <td>...</td>\n",
       "      <td>...</td>\n",
       "      <td>...</td>\n",
       "      <td>...</td>\n",
       "      <td>...</td>\n",
       "    </tr>\n",
       "    <tr>\n",
       "      <th>36251</th>\n",
       "      <td>MDL</td>\n",
       "      <td>EUR</td>\n",
       "      <td>Moldovan Leu</td>\n",
       "      <td>19.298000</td>\n",
       "      <td>2022-11-07</td>\n",
       "    </tr>\n",
       "    <tr>\n",
       "      <th>36252</th>\n",
       "      <td>BBD</td>\n",
       "      <td>EUR</td>\n",
       "      <td>Barbadian Dollar</td>\n",
       "      <td>1.928100</td>\n",
       "      <td>2022-11-06</td>\n",
       "    </tr>\n",
       "    <tr>\n",
       "      <th>36253</th>\n",
       "      <td>CZK</td>\n",
       "      <td>EUR</td>\n",
       "      <td>Czech Republic Koruna</td>\n",
       "      <td>24.378500</td>\n",
       "      <td>2022-11-06</td>\n",
       "    </tr>\n",
       "    <tr>\n",
       "      <th>36254</th>\n",
       "      <td>MXN</td>\n",
       "      <td>EUR</td>\n",
       "      <td>Mexican Peso</td>\n",
       "      <td>19.423500</td>\n",
       "      <td>2022-11-06</td>\n",
       "    </tr>\n",
       "    <tr>\n",
       "      <th>36255</th>\n",
       "      <td>NOK</td>\n",
       "      <td>EUR</td>\n",
       "      <td>Norwegian Krone</td>\n",
       "      <td>10.181040</td>\n",
       "      <td>2022-11-06</td>\n",
       "    </tr>\n",
       "  </tbody>\n",
       "</table>\n",
       "<p>34397 rows × 5 columns</p>\n",
       "</div>"
      ],
      "text/plain": [
       "      currency base_currency          currency_name  exchange_rate        date\n",
       "1859       AUD           EUR      Australian Dollar       1.684450  2023-11-10\n",
       "1860       GHS           EUR          Ghanaian Cedi      12.793676  2023-11-10\n",
       "1861       ARS           EUR         Argentine Peso     373.839740  2023-11-10\n",
       "1862       ZWL           EUR      Zimbabwean Dollar     345.010367  2023-11-10\n",
       "1863       CZK           EUR  Czech Republic Koruna      24.598096  2023-11-10\n",
       "...        ...           ...                    ...            ...         ...\n",
       "36251      MDL           EUR           Moldovan Leu      19.298000  2022-11-07\n",
       "36252      BBD           EUR       Barbadian Dollar       1.928100  2022-11-06\n",
       "36253      CZK           EUR  Czech Republic Koruna      24.378500  2022-11-06\n",
       "36254      MXN           EUR           Mexican Peso      19.423500  2022-11-06\n",
       "36255      NOK           EUR        Norwegian Krone      10.181040  2022-11-06\n",
       "\n",
       "[34397 rows x 5 columns]"
      ]
     },
     "execution_count": 14,
     "metadata": {},
     "output_type": "execute_result"
    }
   ],
   "source": [
    "df.loc[(df[\"date\"].values >= \"2022-11-05\") & (df[\"date\"].values <= \"2023-11-11\")]"
   ]
  },
  {
   "cell_type": "code",
   "execution_count": 277,
   "id": "ae5a0d84",
   "metadata": {},
   "outputs": [],
   "source": [
    "df2 = df.loc[(df[\"currency_name\"] == \"South Korean Won\") & (df[\"date\"].values >= \"2022-01-01\") & (df[\"date\"].values <= \"2023-02-05\")].sort_values(\"date\")"
   ]
  },
  {
   "cell_type": "code",
   "execution_count": 287,
   "id": "94695828",
   "metadata": {},
   "outputs": [
    {
     "data": {
      "text/plain": [
       "64063   2022-01-03\n",
       "63852   2022-01-04\n",
       "63778   2022-01-05\n",
       "63633   2022-01-06\n",
       "63505   2022-01-07\n",
       "           ...    \n",
       "28640   2023-01-30\n",
       "28467   2023-01-31\n",
       "28371   2023-02-01\n",
       "28228   2023-02-02\n",
       "28069   2023-02-03\n",
       "Name: date, Length: 285, dtype: datetime64[ns]"
      ]
     },
     "execution_count": 287,
     "metadata": {},
     "output_type": "execute_result"
    }
   ],
   "source": [
    "df2[\"date\"]"
   ]
  },
  {
   "cell_type": "code",
   "execution_count": 212,
   "id": "b6a0bcfa",
   "metadata": {},
   "outputs": [
    {
     "data": {
      "text/plain": [
       "(3, 0)"
      ]
     },
     "execution_count": 212,
     "metadata": {},
     "output_type": "execute_result"
    }
   ],
   "source": [
    "330 // 110, 330 % 110"
   ]
  },
  {
   "cell_type": "code",
   "execution_count": 278,
   "id": "9941f8f7",
   "metadata": {},
   "outputs": [
    {
     "data": {
      "text/html": [
       "<div>\n",
       "<style scoped>\n",
       "    .dataframe tbody tr th:only-of-type {\n",
       "        vertical-align: middle;\n",
       "    }\n",
       "\n",
       "    .dataframe tbody tr th {\n",
       "        vertical-align: top;\n",
       "    }\n",
       "\n",
       "    .dataframe thead th {\n",
       "        text-align: right;\n",
       "    }\n",
       "</style>\n",
       "<table border=\"1\" class=\"dataframe\">\n",
       "  <thead>\n",
       "    <tr style=\"text-align: right;\">\n",
       "      <th></th>\n",
       "      <th>currency</th>\n",
       "      <th>base_currency</th>\n",
       "      <th>currency_name</th>\n",
       "      <th>exchange_rate</th>\n",
       "      <th>date</th>\n",
       "    </tr>\n",
       "  </thead>\n",
       "  <tbody>\n",
       "    <tr>\n",
       "      <th>64063</th>\n",
       "      <td>KRW</td>\n",
       "      <td>EUR</td>\n",
       "      <td>South Korean Won</td>\n",
       "      <td>1347.6</td>\n",
       "      <td>2022-01-03</td>\n",
       "    </tr>\n",
       "    <tr>\n",
       "      <th>63852</th>\n",
       "      <td>KRW</td>\n",
       "      <td>EUR</td>\n",
       "      <td>South Korean Won</td>\n",
       "      <td>1350.9</td>\n",
       "      <td>2022-01-04</td>\n",
       "    </tr>\n",
       "    <tr>\n",
       "      <th>63778</th>\n",
       "      <td>KRW</td>\n",
       "      <td>EUR</td>\n",
       "      <td>South Korean Won</td>\n",
       "      <td>1354.2</td>\n",
       "      <td>2022-01-05</td>\n",
       "    </tr>\n",
       "    <tr>\n",
       "      <th>63633</th>\n",
       "      <td>KRW</td>\n",
       "      <td>EUR</td>\n",
       "      <td>South Korean Won</td>\n",
       "      <td>1360.7</td>\n",
       "      <td>2022-01-06</td>\n",
       "    </tr>\n",
       "    <tr>\n",
       "      <th>63505</th>\n",
       "      <td>KRW</td>\n",
       "      <td>EUR</td>\n",
       "      <td>South Korean Won</td>\n",
       "      <td>1360.0</td>\n",
       "      <td>2022-01-07</td>\n",
       "    </tr>\n",
       "    <tr>\n",
       "      <th>...</th>\n",
       "      <td>...</td>\n",
       "      <td>...</td>\n",
       "      <td>...</td>\n",
       "      <td>...</td>\n",
       "      <td>...</td>\n",
       "    </tr>\n",
       "    <tr>\n",
       "      <th>28640</th>\n",
       "      <td>KRW</td>\n",
       "      <td>EUR</td>\n",
       "      <td>South Korean Won</td>\n",
       "      <td>1335.6</td>\n",
       "      <td>2023-01-30</td>\n",
       "    </tr>\n",
       "    <tr>\n",
       "      <th>28467</th>\n",
       "      <td>KRW</td>\n",
       "      <td>EUR</td>\n",
       "      <td>South Korean Won</td>\n",
       "      <td>1338.9</td>\n",
       "      <td>2023-01-31</td>\n",
       "    </tr>\n",
       "    <tr>\n",
       "      <th>28371</th>\n",
       "      <td>KRW</td>\n",
       "      <td>EUR</td>\n",
       "      <td>South Korean Won</td>\n",
       "      <td>1341.9</td>\n",
       "      <td>2023-02-01</td>\n",
       "    </tr>\n",
       "    <tr>\n",
       "      <th>28228</th>\n",
       "      <td>KRW</td>\n",
       "      <td>EUR</td>\n",
       "      <td>South Korean Won</td>\n",
       "      <td>1335.5</td>\n",
       "      <td>2023-02-02</td>\n",
       "    </tr>\n",
       "    <tr>\n",
       "      <th>28069</th>\n",
       "      <td>KRW</td>\n",
       "      <td>EUR</td>\n",
       "      <td>South Korean Won</td>\n",
       "      <td>1345.8</td>\n",
       "      <td>2023-02-03</td>\n",
       "    </tr>\n",
       "  </tbody>\n",
       "</table>\n",
       "<p>285 rows × 5 columns</p>\n",
       "</div>"
      ],
      "text/plain": [
       "      currency base_currency     currency_name  exchange_rate        date\n",
       "64063      KRW           EUR  South Korean Won         1347.6  2022-01-03\n",
       "63852      KRW           EUR  South Korean Won         1350.9  2022-01-04\n",
       "63778      KRW           EUR  South Korean Won         1354.2  2022-01-05\n",
       "63633      KRW           EUR  South Korean Won         1360.7  2022-01-06\n",
       "63505      KRW           EUR  South Korean Won         1360.0  2022-01-07\n",
       "...        ...           ...               ...            ...         ...\n",
       "28640      KRW           EUR  South Korean Won         1335.6  2023-01-30\n",
       "28467      KRW           EUR  South Korean Won         1338.9  2023-01-31\n",
       "28371      KRW           EUR  South Korean Won         1341.9  2023-02-01\n",
       "28228      KRW           EUR  South Korean Won         1335.5  2023-02-02\n",
       "28069      KRW           EUR  South Korean Won         1345.8  2023-02-03\n",
       "\n",
       "[285 rows x 5 columns]"
      ]
     },
     "execution_count": 278,
     "metadata": {},
     "output_type": "execute_result"
    }
   ],
   "source": [
    "df2"
   ]
  },
  {
   "cell_type": "code",
   "execution_count": 286,
   "id": "f5d6726f",
   "metadata": {},
   "outputs": [
    {
     "data": {
      "text/plain": [
       "64063   2022-01-03\n",
       "63852   2022-01-04\n",
       "63778   2022-01-05\n",
       "63633   2022-01-06\n",
       "63505   2022-01-07\n",
       "           ...    \n",
       "48168   2022-06-27\n",
       "48044   2022-06-28\n",
       "47933   2022-06-29\n",
       "47833   2022-06-30\n",
       "47708   2022-07-01\n",
       "Name: date, Length: 130, dtype: datetime64[ns]"
      ]
     },
     "execution_count": 286,
     "metadata": {},
     "output_type": "execute_result"
    }
   ],
   "source": [
    "df2[\"date\"].iloc[ 0 : 130] # 첫번째 날짜부터 109번째까지, 총 110개"
   ]
  },
  {
   "cell_type": "code",
   "execution_count": 280,
   "id": "353b3a75",
   "metadata": {
    "collapsed": true
   },
   "outputs": [
    {
     "data": {
      "text/plain": [
       "47517    2022-07-04\n",
       "47458    2022-07-05\n",
       "47346    2022-07-06\n",
       "47206    2022-07-07\n",
       "47083    2022-07-08\n",
       "            ...    \n",
       "31773    2022-12-26\n",
       "31564    2022-12-27\n",
       "31442    2022-12-28\n",
       "31323    2022-12-29\n",
       "31251    2022-12-30\n",
       "Name: date, Length: 130, dtype: object"
      ]
     },
     "execution_count": 280,
     "metadata": {},
     "output_type": "execute_result"
    }
   ],
   "source": [
    "df2[\"date\"].iloc[ 130 : 260 ] # 110번째 부터 219번째까지, 총 110개"
   ]
  },
  {
   "cell_type": "code",
   "execution_count": 281,
   "id": "940ad960",
   "metadata": {
    "collapsed": true
   },
   "outputs": [
    {
     "data": {
      "text/plain": [
       "25"
      ]
     },
     "execution_count": 281,
     "metadata": {},
     "output_type": "execute_result"
    }
   ],
   "source": [
    "len(df2[\"date\"].iloc[ 260 : ])"
   ]
  },
  {
   "cell_type": "code",
   "execution_count": 466,
   "id": "823906c5",
   "metadata": {},
   "outputs": [],
   "source": [
    "df2 = df.loc[(df[\"currency_name\"] == \"Australian Dollar\") & (df[\"date\"].values >= \"2023-03-01\") & (df[\"date\"].values <= \"2023-11-23\")].sort_values(\"date\")"
   ]
  },
  {
   "cell_type": "code",
   "execution_count": 467,
   "id": "ddcacaf7",
   "metadata": {},
   "outputs": [
    {
     "data": {
      "text/plain": [
       "197"
      ]
     },
     "execution_count": 467,
     "metadata": {},
     "output_type": "execute_result"
    }
   ],
   "source": [
    "len(df2[\"date\"])"
   ]
  },
  {
   "cell_type": "code",
   "execution_count": 468,
   "id": "1e4c62d6",
   "metadata": {
    "collapsed": true
   },
   "outputs": [
    {
     "data": {
      "image/png": "[encoded data removed]",
      "text/plain": [
       "<Figure size 1000x500 with 1 Axes>"
      ]
     },
     "metadata": {},
     "output_type": "display_data"
    },
    {
     "data": {
      "image/png": "[encoded data removed]",
      "text/plain": [
       "<Figure size 1000x500 with 1 Axes>"
      ]
     },
     "metadata": {},
     "output_type": "display_data"
    }
   ],
   "source": [
    "def plot_chart(start_idx , end_idx) :\n",
    "    fig = plt.figure(figsize=(10,5))\n",
    "    plt.plot(df2[\"date\"].iloc[start_idx : end_idx] , df2[\"exchange_rate\"].iloc[start_idx : end_idx])\n",
    "    plt.gca().xaxis.set_major_locator(months)\n",
    "    plt.gca().xaxis.set_major_formatter(monFmt)\n",
    "    plt.title(\"title\")\n",
    "    plt.ylabel(\"exchange_rate\")\n",
    "    plt.show()\n",
    "\n",
    "n = len(df2[\"date\"]) # n = 날짜 개수\n",
    "df2['date'] = pd.to_datetime(df2['date']) # datetime 타입으로 변환\n",
    "months = MonthLocator() # 1달씩 나오게\n",
    "monFmt = DateFormatter('%Y-%m') # 표시 형식 포맷\n",
    "\n",
    "if n % 130 == 0 : # 날짜 개수가 130의 배수일 때 \n",
    "    count = n // 130 # count = 차트 개수\n",
    "    \n",
    "    if count == 1 :\n",
    "        plot_chart(0, n)\n",
    "        \n",
    "    else :\n",
    "        for i in range(count) : \n",
    "            start_idx = i * 130\n",
    "            end_idx = (i+1) * 130\n",
    "            plot_chart(start_idx, end_idx)\n",
    "else :\n",
    "    count = (n // 130) + 1\n",
    "        \n",
    "    if count == 1 : \n",
    "        plot_chart(0, n)\n",
    "        \n",
    "    else :\n",
    "        for i in range(count-1) : \n",
    "            start_idx = i * 130\n",
    "            end_idx = (i+1) * 130\n",
    "            plot_chart(start_idx, end_idx)\n",
    " \n",
    "        start_idx = (count-1) * 130\n",
    "        end_idx = n\n",
    "        plot_chart(start_idx, n)"
   ]
  },
  {
   "cell_type": "code",
   "execution_count": 469,
   "id": "8c4d4e1d",
   "metadata": {},
   "outputs": [
    {
     "data": {
      "text/html": [
       "<div>\n",
       "<style scoped>\n",
       "    .dataframe tbody tr th:only-of-type {\n",
       "        vertical-align: middle;\n",
       "    }\n",
       "\n",
       "    .dataframe tbody tr th {\n",
       "        vertical-align: top;\n",
       "    }\n",
       "\n",
       "    .dataframe thead th {\n",
       "        text-align: right;\n",
       "    }\n",
       "</style>\n",
       "<table border=\"1\" class=\"dataframe\">\n",
       "  <thead>\n",
       "    <tr style=\"text-align: right;\">\n",
       "      <th></th>\n",
       "      <th>currency</th>\n",
       "      <th>base_currency</th>\n",
       "      <th>currency_name</th>\n",
       "      <th>exchange_rate</th>\n",
       "      <th>date</th>\n",
       "    </tr>\n",
       "  </thead>\n",
       "  <tbody>\n",
       "    <tr>\n",
       "      <th>25910</th>\n",
       "      <td>AUD</td>\n",
       "      <td>EUR</td>\n",
       "      <td>Australian Dollar</td>\n",
       "      <td>1.576840</td>\n",
       "      <td>2023-03-01</td>\n",
       "    </tr>\n",
       "    <tr>\n",
       "      <th>25694</th>\n",
       "      <td>AUD</td>\n",
       "      <td>EUR</td>\n",
       "      <td>Australian Dollar</td>\n",
       "      <td>1.574420</td>\n",
       "      <td>2023-03-02</td>\n",
       "    </tr>\n",
       "    <tr>\n",
       "      <th>25652</th>\n",
       "      <td>AUD</td>\n",
       "      <td>EUR</td>\n",
       "      <td>Australian Dollar</td>\n",
       "      <td>1.570530</td>\n",
       "      <td>2023-03-03</td>\n",
       "    </tr>\n",
       "    <tr>\n",
       "      <th>25525</th>\n",
       "      <td>AUD</td>\n",
       "      <td>EUR</td>\n",
       "      <td>Australian Dollar</td>\n",
       "      <td>1.586660</td>\n",
       "      <td>2023-03-06</td>\n",
       "    </tr>\n",
       "    <tr>\n",
       "      <th>25355</th>\n",
       "      <td>AUD</td>\n",
       "      <td>EUR</td>\n",
       "      <td>Australian Dollar</td>\n",
       "      <td>1.602060</td>\n",
       "      <td>2023-03-07</td>\n",
       "    </tr>\n",
       "    <tr>\n",
       "      <th>...</th>\n",
       "      <td>...</td>\n",
       "      <td>...</td>\n",
       "      <td>...</td>\n",
       "      <td>...</td>\n",
       "      <td>...</td>\n",
       "    </tr>\n",
       "    <tr>\n",
       "      <th>739</th>\n",
       "      <td>AUD</td>\n",
       "      <td>EUR</td>\n",
       "      <td>Australian Dollar</td>\n",
       "      <td>1.676099</td>\n",
       "      <td>2023-11-18</td>\n",
       "    </tr>\n",
       "    <tr>\n",
       "      <th>522</th>\n",
       "      <td>AUD</td>\n",
       "      <td>EUR</td>\n",
       "      <td>Australian Dollar</td>\n",
       "      <td>1.674826</td>\n",
       "      <td>2023-11-19</td>\n",
       "    </tr>\n",
       "    <tr>\n",
       "      <th>397</th>\n",
       "      <td>AUD</td>\n",
       "      <td>EUR</td>\n",
       "      <td>Australian Dollar</td>\n",
       "      <td>1.668667</td>\n",
       "      <td>2023-11-20</td>\n",
       "    </tr>\n",
       "    <tr>\n",
       "      <th>180</th>\n",
       "      <td>AUD</td>\n",
       "      <td>EUR</td>\n",
       "      <td>Australian Dollar</td>\n",
       "      <td>1.665141</td>\n",
       "      <td>2023-11-21</td>\n",
       "    </tr>\n",
       "    <tr>\n",
       "      <th>55</th>\n",
       "      <td>AUD</td>\n",
       "      <td>EUR</td>\n",
       "      <td>Australian Dollar</td>\n",
       "      <td>1.664382</td>\n",
       "      <td>2023-11-22</td>\n",
       "    </tr>\n",
       "  </tbody>\n",
       "</table>\n",
       "<p>197 rows × 5 columns</p>\n",
       "</div>"
      ],
      "text/plain": [
       "      currency base_currency      currency_name  exchange_rate       date\n",
       "25910      AUD           EUR  Australian Dollar       1.576840 2023-03-01\n",
       "25694      AUD           EUR  Australian Dollar       1.574420 2023-03-02\n",
       "25652      AUD           EUR  Australian Dollar       1.570530 2023-03-03\n",
       "25525      AUD           EUR  Australian Dollar       1.586660 2023-03-06\n",
       "25355      AUD           EUR  Australian Dollar       1.602060 2023-03-07\n",
       "...        ...           ...                ...            ...        ...\n",
       "739        AUD           EUR  Australian Dollar       1.676099 2023-11-18\n",
       "522        AUD           EUR  Australian Dollar       1.674826 2023-11-19\n",
       "397        AUD           EUR  Australian Dollar       1.668667 2023-11-20\n",
       "180        AUD           EUR  Australian Dollar       1.665141 2023-11-21\n",
       "55         AUD           EUR  Australian Dollar       1.664382 2023-11-22\n",
       "\n",
       "[197 rows x 5 columns]"
      ]
     },
     "execution_count": 469,
     "metadata": {},
     "output_type": "execute_result"
    }
   ],
   "source": [
    "df2"
   ]
  },
  {
   "cell_type": "code",
   "execution_count": 473,
   "id": "0133a011",
   "metadata": {},
   "outputs": [
    {
     "data": {
      "text/plain": [
       "array([1.58, 1.57, 1.57, 1.59, 1.6 , 1.6 , 1.61, 1.62, 1.61, 1.61, 1.6 ,\n",
       "       1.59, 1.59, 1.6 , 1.61, 1.62, 1.62, 1.62, 1.62, 1.62, 1.62, 1.62,\n",
       "       1.62, 1.61, 1.62, 1.62, 1.64, 1.63, 1.64, 1.64, 1.64, 1.63, 1.64,\n",
       "       1.63, 1.63, 1.63, 1.63, 1.64, 1.65, 1.66, 1.67, 1.66, 1.66, 1.66,\n",
       "       1.65, 1.66, 1.65, 1.63, 1.62, 1.62, 1.62, 1.63, 1.63, 1.62, 1.63,\n",
       "       1.63, 1.63, 1.62, 1.63, 1.63, 1.64, 1.65, 1.65, 1.64, 1.65, 1.64,\n",
       "       1.64, 1.62, 1.62, 1.6 , 1.61, 1.61, 1.59, 1.59, 1.59, 1.59, 1.59,\n",
       "       1.59, 1.59, 1.61, 1.62, 1.62, 1.63, 1.63, 1.64, 1.65, 1.64, 1.64,\n",
       "       1.64, 1.63, 1.63, 1.64, 1.64, 1.65, 1.65, 1.64, 1.63, 1.64, 1.65,\n",
       "       1.65, 1.65, 1.64, 1.65, 1.64, 1.63, 1.64, 1.64, 1.66, 1.64, 1.66,\n",
       "       1.67, 1.67, 1.68, 1.67, 1.67, 1.68, 1.68, 1.68, 1.68, 1.69, 1.69,\n",
       "       1.7 , 1.7 , 1.7 , 1.69, 1.68, 1.68, 1.69, 1.68, 1.68, 1.69, 1.67,\n",
       "       1.67, 1.67, 1.68, 1.68, 1.68, 1.68, 1.67, 1.67, 1.67, 1.65, 1.66,\n",
       "       1.66, 1.65, 1.65, 1.66, 1.65, 1.65, 1.65, 1.65, 1.64, 1.64, 1.65,\n",
       "       1.66, 1.66, 1.66, 1.66, 1.65, 1.65, 1.66, 1.67, 1.67, 1.67, 1.66,\n",
       "       1.66, 1.67, 1.68, 1.68, 1.67, 1.67, 1.67, 1.67, 1.67, 1.67, 1.67,\n",
       "       1.65, 1.65, 1.65, 1.65, 1.65, 1.65, 1.66, 1.67, 1.68, 1.68, 1.68,\n",
       "       1.68, 1.67, 1.67, 1.68, 1.68, 1.68, 1.67, 1.67, 1.67, 1.66])"
      ]
     },
     "execution_count": 473,
     "metadata": {},
     "output_type": "execute_result"
    }
   ],
   "source": [
    "np.round(df2[\"exchange_rate\"].values , 2)"
   ]
  },
  {
   "cell_type": "code",
   "execution_count": null,
   "id": "95561f5a",
   "metadata": {},
   "outputs": [],
   "source": []
  },
  {
   "cell_type": "code",
   "execution_count": null,
   "id": "d8f55ab7",
   "metadata": {},
   "outputs": [],
   "source": [
    "xx = df2[\"exchange_rate\"]"
   ]
  },
  {
   "cell_type": "code",
   "execution_count": null,
   "id": "9a1418d4",
   "metadata": {},
   "outputs": [],
   "source": []
  },
  {
   "cell_type": "code",
   "execution_count": null,
   "id": "b96e0bb7",
   "metadata": {},
   "outputs": [],
   "source": [
    "plt.pie()"
   ]
  },
  {
   "cell_type": "code",
   "execution_count": 253,
   "id": "a863a39c",
   "metadata": {
    "collapsed": true
   },
   "outputs": [
    {
     "data": {
      "image/png": "[encoded data removed]",
      "text/plain": [
       "<Figure size 1200x600 with 1 Axes>"
      ]
     },
     "metadata": {},
     "output_type": "display_data"
    }
   ],
   "source": [
    "df2['date'] = pd.to_datetime(df2['date'])\n",
    "fig, ax = plt.subplots(figsize=(12, 6))\n",
    "months = MonthLocator()  # every month\n",
    "ax.plot_date(df2[\"date\"], df2[\"exchange_rate\"])\n",
    "ax.xaxis.set_major_locator(months)\n",
    "monFmt = DateFormatter('%m')\n",
    "ax.xaxis.set_major_formatter(monFmt)\n",
    "\n",
    "plt.xlabel(\"Month\")\n",
    "plt.ylabel(\"exchange_rate\")\n",
    "plt.show()"
   ]
  },
  {
   "cell_type": "code",
   "execution_count": null,
   "id": "203c5a47",
   "metadata": {},
   "outputs": [],
   "source": [
    "array1 = df[\"currency\"].unique()"
   ]
  },
  {
   "cell_type": "code",
   "execution_count": null,
   "id": "4cdf46ec",
   "metadata": {},
   "outputs": [],
   "source": [
    "array2 = df[\"currency_name\"].unique()"
   ]
  },
  {
   "cell_type": "code",
   "execution_count": null,
   "id": "e6e11a24",
   "metadata": {},
   "outputs": [],
   "source": [
    "currency_dict = dict(zip(array1, array2))\n",
    "currency_dict"
   ]
  },
  {
   "cell_type": "code",
   "execution_count": null,
   "id": "1516fa5c",
   "metadata": {},
   "outputs": [],
   "source": [
    "df.iloc[ : , [0,2]]"
   ]
  },
  {
   "cell_type": "code",
   "execution_count": null,
   "id": "434ec497",
   "metadata": {},
   "outputs": [],
   "source": [
    "df"
   ]
  },
  {
   "cell_type": "code",
   "execution_count": null,
   "id": "5bd87409",
   "metadata": {},
   "outputs": [],
   "source": [
    "df.loc[(df[\"date\"] == \"2022-11-07\") & (df[\"currency_name\"].str.contains(\"korea\",case=False)) ]"
   ]
  },
  {
   "cell_type": "code",
   "execution_count": null,
   "id": "581dc67e",
   "metadata": {},
   "outputs": [],
   "source": [
    "df2.shape[0]"
   ]
  },
  {
   "cell_type": "code",
   "execution_count": null,
   "id": "2cd7a2e0",
   "metadata": {},
   "outputs": [],
   "source": [
    "df2"
   ]
  },
  {
   "cell_type": "code",
   "execution_count": null,
   "id": "14b19213",
   "metadata": {},
   "outputs": [],
   "source": []
  },
  {
   "cell_type": "code",
   "execution_count": null,
   "id": "e7f3e6e4",
   "metadata": {},
   "outputs": [],
   "source": [
    "half_idx = len(df2) // 2\n",
    "df2_part1 = df2.iloc[:half_idx, :]\n",
    "df2_part2 = df2.iloc[half_idx:, :]\n",
    "\n",
    "plt.figure(figsize=(12, 6))\n",
    "\n",
    "plt.subplot(1, 2, 1)\n",
    "sb.lineplot(data=df2_part1, x='date', y='exchange_rate', hue=\"currency_name\")\n",
    "plt.title('Exchange Rate Over Time')\n",
    "plt.xlabel('Date')\n",
    "plt.ylabel('Exchange Rate')\n",
    "\n",
    "plt.subplot(1, 2, 2)\n",
    "sb.lineplot(data=df2_part2, x='date', y='exchange_rate', hue=\"currency_name\")\n",
    "plt.title('Exchange Rate Over Time')\n",
    "plt.xlabel('Date')\n",
    "plt.ylabel('Exchange Rate')\n",
    "\n",
    "plt.show()"
   ]
  },
  {
   "cell_type": "code",
   "execution_count": null,
   "id": "9419858f",
   "metadata": {},
   "outputs": [],
   "source": [
    "df2"
   ]
  },
  {
   "cell_type": "code",
   "execution_count": null,
   "id": "dc41adb3",
   "metadata": {},
   "outputs": [],
   "source": [
    "df[\"currency_name\"].value_counts().index"
   ]
  },
  {
   "cell_type": "code",
   "execution_count": null,
   "id": "296b79e9",
   "metadata": {},
   "outputs": [],
   "source": [
    "df.loc[df[\"currency_name\"].str.contains(\"ddsa\", case=False)]"
   ]
  },
  {
   "cell_type": "code",
   "execution_count": null,
   "id": "23d5b37a",
   "metadata": {},
   "outputs": [],
   "source": [
    "df[\"currency_name\"].value_counts().index"
   ]
  },
  {
   "cell_type": "code",
   "execution_count": null,
   "id": "6078c7b1",
   "metadata": {},
   "outputs": [],
   "source": [
    "df"
   ]
  },
  {
   "cell_type": "code",
   "execution_count": null,
   "id": "b84b011f",
   "metadata": {},
   "outputs": [],
   "source": [
    "df3 = df.groupby(\"currency_name\")[[\"exchange_rate\",\"date\"]].agg([np.min, np.max])"
   ]
  },
  {
   "cell_type": "code",
   "execution_count": null,
   "id": "c9a307fb",
   "metadata": {},
   "outputs": [],
   "source": [
    "df3.columns[0]"
   ]
  },
  {
   "cell_type": "code",
   "execution_count": null,
   "id": "7c71da47",
   "metadata": {},
   "outputs": [],
   "source": [
    "df3"
   ]
  },
  {
   "cell_type": "code",
   "execution_count": 71,
   "id": "eda13baf",
   "metadata": {},
   "outputs": [
    {
     "data": {
      "text/plain": [
       "currency                      KRW\n",
       "base_currency                 EUR\n",
       "currency_name    South Korean Won\n",
       "exchange_rate          1157.80005\n",
       "date                   2014-11-07\n",
       "dtype: object"
      ]
     },
     "execution_count": 71,
     "metadata": {},
     "output_type": "execute_result"
    }
   ],
   "source": [
    "df.loc[df[\"currency_name\"] == \"South Korean Won\"].min()"
   ]
  },
  {
   "cell_type": "code",
   "execution_count": null,
   "id": "396afad0",
   "metadata": {},
   "outputs": [],
   "source": [
    "df.loc[df[\"currency_name\"] == \"South Korean Won\"].min().values[3:][0]"
   ]
  },
  {
   "cell_type": "code",
   "execution_count": null,
   "id": "a7dbe42a",
   "metadata": {},
   "outputs": [],
   "source": [
    "df.loc[df[\"currency_name\"] == \"South Korean Won\"].max().values[3:][1]"
   ]
  },
  {
   "cell_type": "code",
   "execution_count": null,
   "id": "08fcc38b",
   "metadata": {},
   "outputs": [],
   "source": [
    "df.loc[df[\"currency_name\"] == \"South Korean Won\"].max().values[3:][1]"
   ]
  },
  {
   "cell_type": "code",
   "execution_count": 25,
   "id": "e0e0a240",
   "metadata": {},
   "outputs": [
    {
     "data": {
      "text/plain": [
       "array(['Zimbabwean Dollar', 'Ghanaian Cedi', 'Croatian Kuna',\n",
       "       'Honduran Lempira', 'Hong Kong Dollar', 'Guyanaese Dollar',\n",
       "       'Guatemalan Quetzal', 'Guinean Franc', 'Gambian Dalasi',\n",
       "       'Gibraltar Pound', 'Guernsey Pound', 'Laotian Kip',\n",
       "       'Georgian Lari', 'British Pound Sterling',\n",
       "       'Falkland Islands Pound', 'Fijian Dollar', 'Euro',\n",
       "       'Ethiopian Birr', 'Eritrean Nakfa', 'Egyptian Pound',\n",
       "       'Haitian Gourde', 'Hungarian Forint', 'Indonesian Rupiah',\n",
       "       'Israeli New Sheqel', 'Cayman Islands Dollar', 'Kuwaiti Dinar',\n",
       "       'South Korean Won', 'North Korean Won', 'Comorian Franc',\n",
       "       'Cambodian Riel', 'Kyrgystani Som', 'Kenyan Shilling',\n",
       "       'Japanese Yen', 'Jordanian Dinar', 'Jamaican Dollar',\n",
       "       'Jersey Pound', 'Icelandic Króna', 'Iranian Rial', 'Iraqi Dinar',\n",
       "       'Indian Rupee', 'Manx pound', 'Algerian Dinar', 'Dominican Peso',\n",
       "       'Danish Krone', 'Brazilian Real', 'Brunei Dollar',\n",
       "       'Bermudan Dollar', 'Burundian Franc', 'Bahraini Dinar',\n",
       "       'Bulgarian Lev', 'Bangladeshi Taka', 'Barbadian Dollar',\n",
       "       'Bosnia-Herzegovina Convertible Mark', 'Azerbaijani Manat',\n",
       "       'Aruban Florin', 'Australian Dollar', 'Argentine Peso',\n",
       "       'Angolan Kwanza', 'Netherlands Antillean Guilder', 'Armenian Dram',\n",
       "       'Albanian Lek', 'Afghan Afghani', 'Bolivian Boliviano',\n",
       "       'Bahamian Dollar', 'Djiboutian Franc', 'Bitcoin',\n",
       "       'Czech Republic Koruna', 'Cape Verdean Escudo', 'Cuban Peso',\n",
       "       'Cuban Convertible Peso', 'Costa Rican Colón', 'Colombian Peso',\n",
       "       'Chinese Yuan', 'Chilean Peso', 'Chilean Unit of Account (UF)',\n",
       "       'Swiss Franc', 'Congolese Franc', 'Canadian Dollar',\n",
       "       'Belize Dollar', 'Belarusian Ruble', 'New Belarusian Ruble',\n",
       "       'Botswanan Pula', 'Bhutanese Ngultrum', 'Kazakhstani Tenge',\n",
       "       'Lebanese Pound', 'Seychellois Rupee', 'Thai Baht',\n",
       "       'Tanzanian Shilling', 'New Taiwan Dollar',\n",
       "       'Trinidad and Tobago Dollar', 'Turkish Lira', 'Tongan Paʻanga',\n",
       "       'Tunisian Dinar', 'Turkmenistani Manat', 'Tajikistani Somoni',\n",
       "       'Swazi Lilangeni', 'South Sudanese Pound', 'Syrian Pound',\n",
       "       'São Tomé and Príncipe Dobra', 'Surinamese Dollar',\n",
       "       'Somali Shilling', 'Sierra Leonean Leone', 'Saint Helena Pound',\n",
       "       'Singapore Dollar', 'Ukrainian Hryvnia', 'Ugandan Shilling',\n",
       "       'United States Dollar', 'Uruguayan Peso', 'Zambian Kwacha',\n",
       "       'Zambian Kwacha (pre-2013)', 'South African Rand', 'Yemeni Rial',\n",
       "       'CFP Franc', 'CFA Franc BCEAO', 'Special Drawing Rights',\n",
       "       'East Caribbean Dollar', 'Gold (troy ounce)',\n",
       "       'Silver (troy ounce)', 'CFA Franc BEAC', 'Samoan Tala',\n",
       "       'Vanuatu Vatu', 'Vietnamese Dong', 'Sovereign Bolivar',\n",
       "       'Venezuelan Bolívar Fuerte', 'Uzbekistan Som', 'Swedish Krona',\n",
       "       'United Arab Emirates Dirham', 'Sri Lankan Rupee', 'Myanma Kyat',\n",
       "       'Malaysian Ringgit', 'Mexican Peso', 'Malawian Kwacha',\n",
       "       'Maldivian Rufiyaa', 'Mauritian Rupee', 'Mauritanian Ouguiya',\n",
       "       'Macanese Pataca', 'Mongolian Tugrik', 'Macedonian Denar',\n",
       "       'Solomon Islands Dollar', 'Malagasy Ariary', 'Moldovan Leu',\n",
       "       'Moroccan Dirham', 'Libyan Dinar', 'Latvian Lats',\n",
       "       'Lithuanian Litas', 'Lesotho Loti', 'Liberian Dollar',\n",
       "       'Mozambican Metical', 'Namibian Dollar', 'Nigerian Naira',\n",
       "       'Nicaraguan Córdoba', 'Saudi Riyal', 'Rwandan Franc',\n",
       "       'Russian Ruble', 'Serbian Dinar', 'Romanian Leu', 'Qatari Rial',\n",
       "       'Paraguayan Guarani', 'Polish Zloty', 'Pakistani Rupee',\n",
       "       'Philippine Peso', 'Papua New Guinean Kina', 'Peruvian Nuevo Sol',\n",
       "       'Panamanian Balboa', 'Omani Rial', 'New Zealand Dollar',\n",
       "       'Nepalese Rupee', 'Norwegian Krone'], dtype=object)"
      ]
     },
     "execution_count": 25,
     "metadata": {},
     "output_type": "execute_result"
    }
   ],
   "source": [
    "df[\"currency_name\"].unique()"
   ]
  },
  {
   "cell_type": "code",
   "execution_count": 55,
   "id": "ed82acf8",
   "metadata": {},
   "outputs": [
    {
     "data": {
      "text/html": [
       "<div>\n",
       "<style scoped>\n",
       "    .dataframe tbody tr th:only-of-type {\n",
       "        vertical-align: middle;\n",
       "    }\n",
       "\n",
       "    .dataframe tbody tr th {\n",
       "        vertical-align: top;\n",
       "    }\n",
       "\n",
       "    .dataframe thead th {\n",
       "        text-align: right;\n",
       "    }\n",
       "</style>\n",
       "<table border=\"1\" class=\"dataframe\">\n",
       "  <thead>\n",
       "    <tr style=\"text-align: right;\">\n",
       "      <th></th>\n",
       "      <th>exchange_rate</th>\n",
       "    </tr>\n",
       "  </thead>\n",
       "  <tbody>\n",
       "    <tr>\n",
       "      <th>count</th>\n",
       "      <td>2364.000000</td>\n",
       "    </tr>\n",
       "    <tr>\n",
       "      <th>mean</th>\n",
       "      <td>1319.081806</td>\n",
       "    </tr>\n",
       "    <tr>\n",
       "      <th>std</th>\n",
       "      <td>56.858756</td>\n",
       "    </tr>\n",
       "    <tr>\n",
       "      <th>min</th>\n",
       "      <td>1157.800050</td>\n",
       "    </tr>\n",
       "    <tr>\n",
       "      <th>25%</th>\n",
       "      <td>1280.075000</td>\n",
       "    </tr>\n",
       "    <tr>\n",
       "      <th>50%</th>\n",
       "      <td>1322.500000</td>\n",
       "    </tr>\n",
       "    <tr>\n",
       "      <th>75%</th>\n",
       "      <td>1352.500000</td>\n",
       "    </tr>\n",
       "    <tr>\n",
       "      <th>max</th>\n",
       "      <td>1476.100000</td>\n",
       "    </tr>\n",
       "  </tbody>\n",
       "</table>\n",
       "</div>"
      ],
      "text/plain": [
       "       exchange_rate\n",
       "count    2364.000000\n",
       "mean     1319.081806\n",
       "std        56.858756\n",
       "min      1157.800050\n",
       "25%      1280.075000\n",
       "50%      1322.500000\n",
       "75%      1352.500000\n",
       "max      1476.100000"
      ]
     },
     "execution_count": 55,
     "metadata": {},
     "output_type": "execute_result"
    }
   ],
   "source": [
    "df.loc[df[\"currency_name\"] == \"South Korean Won\"].describe()"
   ]
  },
  {
   "cell_type": "code",
   "execution_count": 83,
   "id": "7ae4535f",
   "metadata": {},
   "outputs": [
    {
     "data": {
      "text/html": [
       "<div>\n",
       "<style scoped>\n",
       "    .dataframe tbody tr th:only-of-type {\n",
       "        vertical-align: middle;\n",
       "    }\n",
       "\n",
       "    .dataframe tbody tr th {\n",
       "        vertical-align: top;\n",
       "    }\n",
       "\n",
       "    .dataframe thead th {\n",
       "        text-align: right;\n",
       "    }\n",
       "</style>\n",
       "<table border=\"1\" class=\"dataframe\">\n",
       "  <thead>\n",
       "    <tr style=\"text-align: right;\">\n",
       "      <th></th>\n",
       "      <th>currency</th>\n",
       "      <th>base_currency</th>\n",
       "      <th>currency_name</th>\n",
       "      <th>exchange_rate</th>\n",
       "      <th>date</th>\n",
       "    </tr>\n",
       "  </thead>\n",
       "  <tbody>\n",
       "    <tr>\n",
       "      <th>307004</th>\n",
       "      <td>JPY</td>\n",
       "      <td>EUR</td>\n",
       "      <td>Japanese Yen</td>\n",
       "      <td>94.27</td>\n",
       "      <td>2012-07-24</td>\n",
       "    </tr>\n",
       "  </tbody>\n",
       "</table>\n",
       "</div>"
      ],
      "text/plain": [
       "       currency base_currency currency_name  exchange_rate        date\n",
       "307004      JPY           EUR  Japanese Yen          94.27  2012-07-24"
      ]
     },
     "execution_count": 83,
     "metadata": {},
     "output_type": "execute_result"
    }
   ],
   "source": [
    "df[df[\"currency_name\"] == \"Japanese Yen\"].nsmallest(1, \"exchange_rate\")"
   ]
  },
  {
   "cell_type": "code",
   "execution_count": 84,
   "id": "3c4b8ba4",
   "metadata": {},
   "outputs": [
    {
     "data": {
      "text/html": [
       "<div>\n",
       "<style scoped>\n",
       "    .dataframe tbody tr th:only-of-type {\n",
       "        vertical-align: middle;\n",
       "    }\n",
       "\n",
       "    .dataframe tbody tr th {\n",
       "        vertical-align: top;\n",
       "    }\n",
       "\n",
       "    .dataframe thead th {\n",
       "        text-align: right;\n",
       "    }\n",
       "</style>\n",
       "<table border=\"1\" class=\"dataframe\">\n",
       "  <thead>\n",
       "    <tr style=\"text-align: right;\">\n",
       "      <th></th>\n",
       "      <th>currency</th>\n",
       "      <th>base_currency</th>\n",
       "      <th>currency_name</th>\n",
       "      <th>exchange_rate</th>\n",
       "      <th>date</th>\n",
       "    </tr>\n",
       "  </thead>\n",
       "  <tbody>\n",
       "    <tr>\n",
       "      <th>315270</th>\n",
       "      <td>JPY</td>\n",
       "      <td>EUR</td>\n",
       "      <td>Japanese Yen</td>\n",
       "      <td>169.5</td>\n",
       "      <td>2008-07-21</td>\n",
       "    </tr>\n",
       "  </tbody>\n",
       "</table>\n",
       "</div>"
      ],
      "text/plain": [
       "       currency base_currency currency_name  exchange_rate        date\n",
       "315270      JPY           EUR  Japanese Yen          169.5  2008-07-21"
      ]
     },
     "execution_count": 84,
     "metadata": {},
     "output_type": "execute_result"
    }
   ],
   "source": [
    "df[df[\"currency_name\"] == \"Japanese Yen\"].nlargest(1, \"exchange_rate\")"
   ]
  },
  {
   "cell_type": "code",
   "execution_count": 62,
   "id": "298f902d",
   "metadata": {},
   "outputs": [
    {
     "data": {
      "text/plain": [
       "1476.1"
      ]
     },
     "execution_count": 62,
     "metadata": {},
     "output_type": "execute_result"
    }
   ],
   "source": [
    "df[df[\"currency_name\"] == \"South Korean Won\"].nlargest(1, \"exchange_rate\").iloc[0,-2]"
   ]
  },
  {
   "cell_type": "code",
   "execution_count": 72,
   "id": "06c3c7eb",
   "metadata": {},
   "outputs": [
    {
     "data": {
      "text/plain": [
       "'2015-04-22'"
      ]
     },
     "execution_count": 72,
     "metadata": {},
     "output_type": "execute_result"
    }
   ],
   "source": [
    "df[df[\"currency_name\"] == \"South Korean Won\"].nsmallest(1, \"exchange_rate\").iloc[0,-1]"
   ]
  },
  {
   "cell_type": "code",
   "execution_count": 78,
   "id": "bf33a855",
   "metadata": {},
   "outputs": [
    {
     "data": {
      "text/plain": [
       "1157.80005"
      ]
     },
     "execution_count": 78,
     "metadata": {},
     "output_type": "execute_result"
    }
   ],
   "source": [
    "df[df[\"currency_name\"] == \"South Korean Won\"].nsmallest(1, \"exchange_rate\").iloc[0,-2]"
   ]
  },
  {
   "cell_type": "code",
   "execution_count": 81,
   "id": "b4d7d18d",
   "metadata": {},
   "outputs": [
    {
     "data": {
      "text/html": [
       "<div>\n",
       "<style scoped>\n",
       "    .dataframe tbody tr th:only-of-type {\n",
       "        vertical-align: middle;\n",
       "    }\n",
       "\n",
       "    .dataframe tbody tr th {\n",
       "        vertical-align: top;\n",
       "    }\n",
       "\n",
       "    .dataframe thead th {\n",
       "        text-align: right;\n",
       "    }\n",
       "</style>\n",
       "<table border=\"1\" class=\"dataframe\">\n",
       "  <thead>\n",
       "    <tr style=\"text-align: right;\">\n",
       "      <th></th>\n",
       "      <th>currency</th>\n",
       "      <th>base_currency</th>\n",
       "      <th>currency_name</th>\n",
       "      <th>exchange_rate</th>\n",
       "      <th>date</th>\n",
       "    </tr>\n",
       "  </thead>\n",
       "  <tbody>\n",
       "    <tr>\n",
       "      <th>0</th>\n",
       "      <td>ZWL</td>\n",
       "      <td>EUR</td>\n",
       "      <td>Zimbabwean Dollar</td>\n",
       "      <td>350.552056</td>\n",
       "      <td>2023-11-22</td>\n",
       "    </tr>\n",
       "    <tr>\n",
       "      <th>1</th>\n",
       "      <td>GHS</td>\n",
       "      <td>EUR</td>\n",
       "      <td>Ghanaian Cedi</td>\n",
       "      <td>12.996958</td>\n",
       "      <td>2023-11-22</td>\n",
       "    </tr>\n",
       "    <tr>\n",
       "      <th>2</th>\n",
       "      <td>HRK</td>\n",
       "      <td>EUR</td>\n",
       "      <td>Croatian Kuna</td>\n",
       "      <td>7.665963</td>\n",
       "      <td>2023-11-22</td>\n",
       "    </tr>\n",
       "    <tr>\n",
       "      <th>3</th>\n",
       "      <td>HNL</td>\n",
       "      <td>EUR</td>\n",
       "      <td>Honduran Lempira</td>\n",
       "      <td>26.867725</td>\n",
       "      <td>2023-11-22</td>\n",
       "    </tr>\n",
       "    <tr>\n",
       "      <th>4</th>\n",
       "      <td>HKD</td>\n",
       "      <td>EUR</td>\n",
       "      <td>Hong Kong Dollar</td>\n",
       "      <td>8.487236</td>\n",
       "      <td>2023-11-22</td>\n",
       "    </tr>\n",
       "    <tr>\n",
       "      <th>...</th>\n",
       "      <td>...</td>\n",
       "      <td>...</td>\n",
       "      <td>...</td>\n",
       "      <td>...</td>\n",
       "      <td>...</td>\n",
       "    </tr>\n",
       "    <tr>\n",
       "      <th>320848</th>\n",
       "      <td>AUD</td>\n",
       "      <td>EUR</td>\n",
       "      <td>Australian Dollar</td>\n",
       "      <td>1.731500</td>\n",
       "      <td>2004-09-01</td>\n",
       "    </tr>\n",
       "    <tr>\n",
       "      <th>320849</th>\n",
       "      <td>AUD</td>\n",
       "      <td>EUR</td>\n",
       "      <td>Australian Dollar</td>\n",
       "      <td>1.729600</td>\n",
       "      <td>2004-08-31</td>\n",
       "    </tr>\n",
       "    <tr>\n",
       "      <th>320850</th>\n",
       "      <td>JPY</td>\n",
       "      <td>EUR</td>\n",
       "      <td>Japanese Yen</td>\n",
       "      <td>132.850000</td>\n",
       "      <td>2004-08-31</td>\n",
       "    </tr>\n",
       "    <tr>\n",
       "      <th>320851</th>\n",
       "      <td>CAD</td>\n",
       "      <td>EUR</td>\n",
       "      <td>Canadian Dollar</td>\n",
       "      <td>1.596700</td>\n",
       "      <td>2004-08-31</td>\n",
       "    </tr>\n",
       "    <tr>\n",
       "      <th>320852</th>\n",
       "      <td>AUD</td>\n",
       "      <td>EUR</td>\n",
       "      <td>Australian Dollar</td>\n",
       "      <td>1.723700</td>\n",
       "      <td>2004-08-30</td>\n",
       "    </tr>\n",
       "  </tbody>\n",
       "</table>\n",
       "<p>320853 rows × 5 columns</p>\n",
       "</div>"
      ],
      "text/plain": [
       "       currency base_currency      currency_name  exchange_rate        date\n",
       "0           ZWL           EUR  Zimbabwean Dollar     350.552056  2023-11-22\n",
       "1           GHS           EUR      Ghanaian Cedi      12.996958  2023-11-22\n",
       "2           HRK           EUR      Croatian Kuna       7.665963  2023-11-22\n",
       "3           HNL           EUR   Honduran Lempira      26.867725  2023-11-22\n",
       "4           HKD           EUR   Hong Kong Dollar       8.487236  2023-11-22\n",
       "...         ...           ...                ...            ...         ...\n",
       "320848      AUD           EUR  Australian Dollar       1.731500  2004-09-01\n",
       "320849      AUD           EUR  Australian Dollar       1.729600  2004-08-31\n",
       "320850      JPY           EUR       Japanese Yen     132.850000  2004-08-31\n",
       "320851      CAD           EUR    Canadian Dollar       1.596700  2004-08-31\n",
       "320852      AUD           EUR  Australian Dollar       1.723700  2004-08-30\n",
       "\n",
       "[320853 rows x 5 columns]"
      ]
     },
     "execution_count": 81,
     "metadata": {},
     "output_type": "execute_result"
    }
   ],
   "source": [
    "df"
   ]
  },
  {
   "cell_type": "code",
   "execution_count": null,
   "id": "cc03d391",
   "metadata": {},
   "outputs": [],
   "source": [
    "df[\"currency_name\"].str.split()"
   ]
  },
  {
   "cell_type": "code",
   "execution_count": null,
   "id": "61b09aea",
   "metadata": {},
   "outputs": [],
   "source": [
    "def split_cname(currency_name) :\n",
    "    cname = currency_name.split()\n",
    "    country = \" \".join(cname[:-1])\n",
    "    return  country , cname[-1]"
   ]
  },
  {
   "cell_type": "code",
   "execution_count": null,
   "id": "2fefe1ad",
   "metadata": {},
   "outputs": [],
   "source": [
    "df[\"currency_name\"].apply(split_cname).values[74][0] "
   ]
  },
  {
   "cell_type": "code",
   "execution_count": null,
   "id": "00b8b6ad",
   "metadata": {},
   "outputs": [],
   "source": [
    "df[\"currency_name\"].apply(split_cname).values[74][1]"
   ]
  },
  {
   "cell_type": "code",
   "execution_count": null,
   "id": "f544e83b",
   "metadata": {},
   "outputs": [],
   "source": [
    "df.loc[df[\"currency_name\"].str.split().str.len() >= 5]"
   ]
  },
  {
   "cell_type": "code",
   "execution_count": null,
   "id": "973de96d",
   "metadata": {},
   "outputs": [],
   "source": [
    "df"
   ]
  },
  {
   "cell_type": "code",
   "execution_count": null,
   "id": "45055e42",
   "metadata": {},
   "outputs": [],
   "source": [
    "#plt.hist(data= , x= , rwidth= , bins = )\n",
    "#-> data = 차트화 시킬 데이터 프레임\n",
    "#-> x = 차트화 시킬 컬럼명\n",
    "#-> rwidth = 데이터들의 거리 비율(작을수록 커짐)\n",
    "#-> bins = 빈 개수 어떻게 할건지"
   ]
  },
  {
   "cell_type": "code",
   "execution_count": null,
   "id": "32042452",
   "metadata": {},
   "outputs": [],
   "source": [
    "df2"
   ]
  },
  {
   "cell_type": "code",
   "execution_count": null,
   "id": "9d6d046b",
   "metadata": {
    "scrolled": true
   },
   "outputs": [],
   "source": [
    "plt.figure(figsize=(10, 6))\n",
    "plt.plot(df2['date'], df2['exchange_rate'])\n",
    "plt.title('Exchange Rate Over Time')\n",
    "plt.xlabel('Date')\n",
    "plt.ylabel('Exchange Rate')\n",
    "plt.show()"
   ]
  },
  {
   "cell_type": "code",
   "execution_count": null,
   "id": "5fd7586e",
   "metadata": {},
   "outputs": [],
   "source": [
    "plt.figure( figsize= (12, 5) )\n",
    "\n",
    "plt.subplot(1, 2, 1)\n",
    "\n",
    "plt.title(\"speed his. bins 3\")\n",
    "plt.xlabel(\"Speed\")\n",
    "plt.ylabel(\"# of Characters\")\n",
    "\n",
    "my_bins = np.arange(5,163,3)\n",
    "plt.hist(data=df, x=\"speed\", rwidth=0.8, bins=my_bins)\n",
    "\n",
    "plt.subplot(1, 2, 2)\n",
    "\n",
    "plt.title(\"speed his. bins 10\")\n",
    "plt.xlabel(\"Speed\")\n",
    "plt.ylabel(\"# of Characters\")\n",
    "\n",
    "my_bins = np.arange(5, 170, 10)\n",
    "plt.hist(data=df, x=\"speed\", rwidth=0.8, bins=my_bins)\n",
    "plt.show()"
   ]
  },
  {
   "cell_type": "code",
   "execution_count": null,
   "id": "c71e217f",
   "metadata": {},
   "outputs": [],
   "source": [
    "df2"
   ]
  },
  {
   "cell_type": "code",
   "execution_count": null,
   "id": "f0707f24",
   "metadata": {},
   "outputs": [],
   "source": [
    "df.loc[df[\"date\"] == \"2023-01-02\"]"
   ]
  },
  {
   "cell_type": "code",
   "execution_count": null,
   "id": "1b7028f3",
   "metadata": {},
   "outputs": [],
   "source": [
    "# 사용자 입력을 받는다.\n",
    "# 날짜 1개, 나라 두개\n",
    "# 정한 날을 기준으로 1유로당 두 나라의 환율이 나온다."
   ]
  },
  {
   "cell_type": "code",
   "execution_count": null,
   "id": "4128fad9",
   "metadata": {},
   "outputs": [],
   "source": [
    "df"
   ]
  },
  {
   "cell_type": "code",
   "execution_count": null,
   "id": "b466300c",
   "metadata": {},
   "outputs": [],
   "source": [
    "df2 = df.loc[(df[\"currency_name\"] == \"North Korean Won\") & (df[\"date\"] == \"2023-11-11\")]"
   ]
  },
  {
   "cell_type": "code",
   "execution_count": null,
   "id": "8cf94807",
   "metadata": {},
   "outputs": [],
   "source": [
    "df3 = df.loc[(df[\"currency_name\"] == \"South Korean Won\") & (df[\"date\"] == \"2023-11-1\")]"
   ]
  },
  {
   "cell_type": "code",
   "execution_count": null,
   "id": "872eb8af",
   "metadata": {},
   "outputs": [],
   "source": [
    "df2"
   ]
  },
  {
   "cell_type": "code",
   "execution_count": null,
   "id": "c73c4c10",
   "metadata": {},
   "outputs": [],
   "source": [
    "df3"
   ]
  },
  {
   "cell_type": "code",
   "execution_count": null,
   "id": "a11397ed",
   "metadata": {},
   "outputs": [],
   "source": [
    "df.loc[(df[\"currency_name\"] == \"North Korean Won\") & (df[\"date\"] != \"2023-11-18\")]"
   ]
  },
  {
   "cell_type": "code",
   "execution_count": null,
   "id": "e646fb1b",
   "metadata": {},
   "outputs": [],
   "source": [
    "df2[\"exchange_rate\"].values[0]"
   ]
  },
  {
   "cell_type": "code",
   "execution_count": null,
   "id": "94da2352",
   "metadata": {},
   "outputs": [],
   "source": [
    "df3[\"exchange_rate\"].values[0]"
   ]
  },
  {
   "cell_type": "code",
   "execution_count": null,
   "id": "5e3aedd9",
   "metadata": {},
   "outputs": [],
   "source": [
    "won = 1335.1\n",
    "yen = 142.494\n",
    "\n",
    "won / won , round(yen / 1335.1, 2)"
   ]
  },
  {
   "cell_type": "code",
   "execution_count": null,
   "id": "e67e3abc",
   "metadata": {},
   "outputs": [],
   "source": []
  },
  {
   "cell_type": "code",
   "execution_count": null,
   "id": "293d3f72",
   "metadata": {},
   "outputs": [],
   "source": [
    "a = 142.494\n",
    "b = 1335.1\n",
    "\n",
    "a / a , round(b / a , 2) "
   ]
  },
  {
   "cell_type": "code",
   "execution_count": null,
   "id": "4545580c",
   "metadata": {},
   "outputs": [],
   "source": []
  },
  {
   "cell_type": "code",
   "execution_count": null,
   "id": "84e24eba",
   "metadata": {},
   "outputs": [],
   "source": [
    "from datetime import datetime"
   ]
  },
  {
   "cell_type": "code",
   "execution_count": null,
   "id": "bc36a566",
   "metadata": {},
   "outputs": [],
   "source": [
    "now_time = datetime.now().strftime(\"%Y-%m-%d\")\n",
    "now_time"
   ]
  },
  {
   "cell_type": "code",
   "execution_count": null,
   "id": "97b831c7",
   "metadata": {},
   "outputs": [],
   "source": []
  },
  {
   "cell_type": "code",
   "execution_count": null,
   "id": "f69c5373",
   "metadata": {},
   "outputs": [],
   "source": [
    "df"
   ]
  },
  {
   "cell_type": "code",
   "execution_count": null,
   "id": "9e0da3c6",
   "metadata": {},
   "outputs": [],
   "source": []
  },
  {
   "cell_type": "code",
   "execution_count": null,
   "id": "ac9a5682",
   "metadata": {},
   "outputs": [],
   "source": []
  },
  {
   "cell_type": "code",
   "execution_count": null,
   "id": "6deebb2e",
   "metadata": {},
   "outputs": [],
   "source": []
  },
  {
   "cell_type": "code",
   "execution_count": null,
   "id": "c718e982",
   "metadata": {},
   "outputs": [],
   "source": []
  },
  {
   "cell_type": "code",
   "execution_count": null,
   "id": "f43e469a",
   "metadata": {},
   "outputs": [],
   "source": []
  },
  {
   "cell_type": "code",
   "execution_count": null,
   "id": "963dbb0f",
   "metadata": {},
   "outputs": [],
   "source": []
  },
  {
   "cell_type": "code",
   "execution_count": null,
   "id": "d426dc91",
   "metadata": {},
   "outputs": [],
   "source": []
  },
  {
   "cell_type": "code",
   "execution_count": null,
   "id": "5717848e",
   "metadata": {},
   "outputs": [],
   "source": [
    "\n"
   ]
  }
 ],
 "metadata": {
  "kernelspec": {
   "display_name": "Python 3 (ipykernel)",
   "language": "python",
   "name": "python3"
  },
  "language_info": {
   "codemirror_mode": {
    "name": "ipython",
    "version": 3
   },
   "file_extension": ".py",
   "mimetype": "text/x-python",
   "name": "python",
   "nbconvert_exporter": "python",
   "pygments_lexer": "ipython3",
   "version": "3.11.5"
  }
 },
 "nbformat": 4,
 "nbformat_minor": 5
}
