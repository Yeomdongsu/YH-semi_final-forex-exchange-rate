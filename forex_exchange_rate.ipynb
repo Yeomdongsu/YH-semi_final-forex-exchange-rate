{
 "cells": [
  {
   "cell_type": "code",
   "execution_count": 3,
   "id": "03bd8c76",
   "metadata": {},
   "outputs": [],
   "source": [
    "import pandas as pd"
   ]
  },
  {
   "cell_type": "code",
   "execution_count": 4,
   "id": "e08fc06c",
   "metadata": {},
   "outputs": [],
   "source": [
    "df = pd.read_csv(\"./data/daily_forex_rates.csv\")"
   ]
  },
  {
   "cell_type": "code",
   "execution_count": 5,
   "id": "f61ca699",
   "metadata": {},
   "outputs": [
    {
     "data": {
      "text/html": [
       "<div>\n",
       "<style scoped>\n",
       "    .dataframe tbody tr th:only-of-type {\n",
       "        vertical-align: middle;\n",
       "    }\n",
       "\n",
       "    .dataframe tbody tr th {\n",
       "        vertical-align: top;\n",
       "    }\n",
       "\n",
       "    .dataframe thead th {\n",
       "        text-align: right;\n",
       "    }\n",
       "</style>\n",
       "<table border=\"1\" class=\"dataframe\">\n",
       "  <thead>\n",
       "    <tr style=\"text-align: right;\">\n",
       "      <th></th>\n",
       "      <th>currency</th>\n",
       "      <th>base_currency</th>\n",
       "      <th>currency_name</th>\n",
       "      <th>exchange_rate</th>\n",
       "      <th>date</th>\n",
       "    </tr>\n",
       "  </thead>\n",
       "  <tbody>\n",
       "    <tr>\n",
       "      <th>0</th>\n",
       "      <td>ZWL</td>\n",
       "      <td>EUR</td>\n",
       "      <td>Zimbabwean Dollar</td>\n",
       "      <td>350.552056</td>\n",
       "      <td>2023-11-22</td>\n",
       "    </tr>\n",
       "    <tr>\n",
       "      <th>1</th>\n",
       "      <td>GHS</td>\n",
       "      <td>EUR</td>\n",
       "      <td>Ghanaian Cedi</td>\n",
       "      <td>12.996958</td>\n",
       "      <td>2023-11-22</td>\n",
       "    </tr>\n",
       "    <tr>\n",
       "      <th>2</th>\n",
       "      <td>HRK</td>\n",
       "      <td>EUR</td>\n",
       "      <td>Croatian Kuna</td>\n",
       "      <td>7.665963</td>\n",
       "      <td>2023-11-22</td>\n",
       "    </tr>\n",
       "    <tr>\n",
       "      <th>3</th>\n",
       "      <td>HNL</td>\n",
       "      <td>EUR</td>\n",
       "      <td>Honduran Lempira</td>\n",
       "      <td>26.867725</td>\n",
       "      <td>2023-11-22</td>\n",
       "    </tr>\n",
       "    <tr>\n",
       "      <th>4</th>\n",
       "      <td>HKD</td>\n",
       "      <td>EUR</td>\n",
       "      <td>Hong Kong Dollar</td>\n",
       "      <td>8.487236</td>\n",
       "      <td>2023-11-22</td>\n",
       "    </tr>\n",
       "    <tr>\n",
       "      <th>...</th>\n",
       "      <td>...</td>\n",
       "      <td>...</td>\n",
       "      <td>...</td>\n",
       "      <td>...</td>\n",
       "      <td>...</td>\n",
       "    </tr>\n",
       "    <tr>\n",
       "      <th>320848</th>\n",
       "      <td>AUD</td>\n",
       "      <td>EUR</td>\n",
       "      <td>Australian Dollar</td>\n",
       "      <td>1.731500</td>\n",
       "      <td>2004-09-01</td>\n",
       "    </tr>\n",
       "    <tr>\n",
       "      <th>320849</th>\n",
       "      <td>AUD</td>\n",
       "      <td>EUR</td>\n",
       "      <td>Australian Dollar</td>\n",
       "      <td>1.729600</td>\n",
       "      <td>2004-08-31</td>\n",
       "    </tr>\n",
       "    <tr>\n",
       "      <th>320850</th>\n",
       "      <td>JPY</td>\n",
       "      <td>EUR</td>\n",
       "      <td>Japanese Yen</td>\n",
       "      <td>132.850000</td>\n",
       "      <td>2004-08-31</td>\n",
       "    </tr>\n",
       "    <tr>\n",
       "      <th>320851</th>\n",
       "      <td>CAD</td>\n",
       "      <td>EUR</td>\n",
       "      <td>Canadian Dollar</td>\n",
       "      <td>1.596700</td>\n",
       "      <td>2004-08-31</td>\n",
       "    </tr>\n",
       "    <tr>\n",
       "      <th>320852</th>\n",
       "      <td>AUD</td>\n",
       "      <td>EUR</td>\n",
       "      <td>Australian Dollar</td>\n",
       "      <td>1.723700</td>\n",
       "      <td>2004-08-30</td>\n",
       "    </tr>\n",
       "  </tbody>\n",
       "</table>\n",
       "<p>320853 rows × 5 columns</p>\n",
       "</div>"
      ],
      "text/plain": [
       "       currency base_currency      currency_name  exchange_rate        date\n",
       "0           ZWL           EUR  Zimbabwean Dollar     350.552056  2023-11-22\n",
       "1           GHS           EUR      Ghanaian Cedi      12.996958  2023-11-22\n",
       "2           HRK           EUR      Croatian Kuna       7.665963  2023-11-22\n",
       "3           HNL           EUR   Honduran Lempira      26.867725  2023-11-22\n",
       "4           HKD           EUR   Hong Kong Dollar       8.487236  2023-11-22\n",
       "...         ...           ...                ...            ...         ...\n",
       "320848      AUD           EUR  Australian Dollar       1.731500  2004-09-01\n",
       "320849      AUD           EUR  Australian Dollar       1.729600  2004-08-31\n",
       "320850      JPY           EUR       Japanese Yen     132.850000  2004-08-31\n",
       "320851      CAD           EUR    Canadian Dollar       1.596700  2004-08-31\n",
       "320852      AUD           EUR  Australian Dollar       1.723700  2004-08-30\n",
       "\n",
       "[320853 rows x 5 columns]"
      ]
     },
     "execution_count": 5,
     "metadata": {},
     "output_type": "execute_result"
    }
   ],
   "source": [
    "df"
   ]
  },
  {
   "cell_type": "code",
   "execution_count": 36,
   "id": "44fc1601",
   "metadata": {},
   "outputs": [
    {
     "data": {
      "text/plain": [
       "'currency'"
      ]
     },
     "execution_count": 36,
     "metadata": {},
     "output_type": "execute_result"
    }
   ],
   "source": [
    "df.columns[0]"
   ]
  },
  {
   "cell_type": "code",
   "execution_count": 6,
   "id": "a65c1690",
   "metadata": {},
   "outputs": [
    {
     "data": {
      "text/plain": [
       "currency         0\n",
       "base_currency    0\n",
       "currency_name    0\n",
       "exchange_rate    0\n",
       "date             0\n",
       "dtype: int64"
      ]
     },
     "execution_count": 6,
     "metadata": {},
     "output_type": "execute_result"
    }
   ],
   "source": [
    "df.isna().sum()"
   ]
  },
  {
   "cell_type": "code",
   "execution_count": 34,
   "id": "5feac272",
   "metadata": {},
   "outputs": [
    {
     "name": "stdout",
     "output_type": "stream",
     "text": [
      "<class 'pandas.core.frame.DataFrame'>\n",
      "RangeIndex: 320853 entries, 0 to 320852\n",
      "Data columns (total 5 columns):\n",
      " #   Column         Non-Null Count   Dtype  \n",
      "---  ------         --------------   -----  \n",
      " 0   currency       320853 non-null  object \n",
      " 1   base_currency  320853 non-null  object \n",
      " 2   currency_name  320853 non-null  object \n",
      " 3   exchange_rate  320853 non-null  float64\n",
      " 4   date           320853 non-null  object \n",
      "dtypes: float64(1), object(4)\n",
      "memory usage: 12.2+ MB\n"
     ]
    }
   ],
   "source": [
    "df.info()"
   ]
  },
  {
   "cell_type": "code",
   "execution_count": 23,
   "id": "bd721a89",
   "metadata": {},
   "outputs": [
    {
     "data": {
      "text/plain": [
       "168"
      ]
     },
     "execution_count": 23,
     "metadata": {},
     "output_type": "execute_result"
    }
   ],
   "source": [
    "df[\"currency_name\"].nunique() # 총 나라의 개수"
   ]
  },
  {
   "cell_type": "code",
   "execution_count": 33,
   "id": "3157527b",
   "metadata": {},
   "outputs": [
    {
     "data": {
      "text/plain": [
       "array(['Zimbabwean Dollar', 'Ghanaian Cedi', 'Croatian Kuna',\n",
       "       'Honduran Lempira', 'Hong Kong Dollar', 'Guyanaese Dollar',\n",
       "       'Guatemalan Quetzal', 'Guinean Franc', 'Gambian Dalasi',\n",
       "       'Gibraltar Pound', 'Guernsey Pound', 'Laotian Kip',\n",
       "       'Georgian Lari', 'British Pound Sterling',\n",
       "       'Falkland Islands Pound', 'Fijian Dollar', 'Euro',\n",
       "       'Ethiopian Birr', 'Eritrean Nakfa', 'Egyptian Pound',\n",
       "       'Haitian Gourde', 'Hungarian Forint', 'Indonesian Rupiah',\n",
       "       'Israeli New Sheqel', 'Cayman Islands Dollar', 'Kuwaiti Dinar',\n",
       "       'South Korean Won', 'North Korean Won', 'Comorian Franc',\n",
       "       'Cambodian Riel', 'Kyrgystani Som', 'Kenyan Shilling',\n",
       "       'Japanese Yen', 'Jordanian Dinar', 'Jamaican Dollar',\n",
       "       'Jersey Pound', 'Icelandic Króna', 'Iranian Rial', 'Iraqi Dinar',\n",
       "       'Indian Rupee', 'Manx pound', 'Algerian Dinar', 'Dominican Peso',\n",
       "       'Danish Krone', 'Brazilian Real', 'Brunei Dollar',\n",
       "       'Bermudan Dollar', 'Burundian Franc', 'Bahraini Dinar',\n",
       "       'Bulgarian Lev', 'Bangladeshi Taka', 'Barbadian Dollar',\n",
       "       'Bosnia-Herzegovina Convertible Mark', 'Azerbaijani Manat',\n",
       "       'Aruban Florin', 'Australian Dollar', 'Argentine Peso',\n",
       "       'Angolan Kwanza', 'Netherlands Antillean Guilder', 'Armenian Dram',\n",
       "       'Albanian Lek', 'Afghan Afghani', 'Bolivian Boliviano',\n",
       "       'Bahamian Dollar', 'Djiboutian Franc', 'Bitcoin',\n",
       "       'Czech Republic Koruna', 'Cape Verdean Escudo', 'Cuban Peso',\n",
       "       'Cuban Convertible Peso', 'Costa Rican Colón', 'Colombian Peso',\n",
       "       'Chinese Yuan', 'Chilean Peso', 'Chilean Unit of Account (UF)',\n",
       "       'Swiss Franc', 'Congolese Franc', 'Canadian Dollar',\n",
       "       'Belize Dollar', 'Belarusian Ruble', 'New Belarusian Ruble',\n",
       "       'Botswanan Pula', 'Bhutanese Ngultrum', 'Kazakhstani Tenge',\n",
       "       'Lebanese Pound', 'Seychellois Rupee', 'Thai Baht',\n",
       "       'Tanzanian Shilling', 'New Taiwan Dollar',\n",
       "       'Trinidad and Tobago Dollar', 'Turkish Lira', 'Tongan Paʻanga',\n",
       "       'Tunisian Dinar', 'Turkmenistani Manat', 'Tajikistani Somoni',\n",
       "       'Swazi Lilangeni', 'South Sudanese Pound', 'Syrian Pound',\n",
       "       'São Tomé and Príncipe Dobra', 'Surinamese Dollar',\n",
       "       'Somali Shilling', 'Sierra Leonean Leone', 'Saint Helena Pound',\n",
       "       'Singapore Dollar', 'Ukrainian Hryvnia', 'Ugandan Shilling',\n",
       "       'United States Dollar', 'Uruguayan Peso', 'Zambian Kwacha',\n",
       "       'Zambian Kwacha (pre-2013)', 'South African Rand', 'Yemeni Rial',\n",
       "       'CFP Franc', 'CFA Franc BCEAO', 'Special Drawing Rights',\n",
       "       'East Caribbean Dollar', 'Gold (troy ounce)',\n",
       "       'Silver (troy ounce)', 'CFA Franc BEAC', 'Samoan Tala',\n",
       "       'Vanuatu Vatu', 'Vietnamese Dong', 'Sovereign Bolivar',\n",
       "       'Venezuelan Bolívar Fuerte', 'Uzbekistan Som', 'Swedish Krona',\n",
       "       'United Arab Emirates Dirham', 'Sri Lankan Rupee', 'Myanma Kyat',\n",
       "       'Malaysian Ringgit', 'Mexican Peso', 'Malawian Kwacha',\n",
       "       'Maldivian Rufiyaa', 'Mauritian Rupee', 'Mauritanian Ouguiya',\n",
       "       'Macanese Pataca', 'Mongolian Tugrik', 'Macedonian Denar',\n",
       "       'Solomon Islands Dollar', 'Malagasy Ariary', 'Moldovan Leu',\n",
       "       'Moroccan Dirham', 'Libyan Dinar', 'Latvian Lats',\n",
       "       'Lithuanian Litas', 'Lesotho Loti', 'Liberian Dollar',\n",
       "       'Mozambican Metical', 'Namibian Dollar', 'Nigerian Naira',\n",
       "       'Nicaraguan Córdoba', 'Saudi Riyal', 'Rwandan Franc',\n",
       "       'Russian Ruble', 'Serbian Dinar', 'Romanian Leu', 'Qatari Rial',\n",
       "       'Paraguayan Guarani', 'Polish Zloty', 'Pakistani Rupee',\n",
       "       'Philippine Peso', 'Papua New Guinean Kina', 'Peruvian Nuevo Sol',\n",
       "       'Panamanian Balboa', 'Omani Rial', 'New Zealand Dollar',\n",
       "       'Nepalese Rupee', 'Norwegian Krone'], dtype=object)"
      ]
     },
     "execution_count": 33,
     "metadata": {},
     "output_type": "execute_result"
    }
   ],
   "source": [
    "df[\"currency_name\"].unique()"
   ]
  },
  {
   "cell_type": "code",
   "execution_count": 38,
   "id": "b8dbe0fc",
   "metadata": {},
   "outputs": [
    {
     "data": {
      "text/html": [
       "<div>\n",
       "<style scoped>\n",
       "    .dataframe tbody tr th:only-of-type {\n",
       "        vertical-align: middle;\n",
       "    }\n",
       "\n",
       "    .dataframe tbody tr th {\n",
       "        vertical-align: top;\n",
       "    }\n",
       "\n",
       "    .dataframe thead th {\n",
       "        text-align: right;\n",
       "    }\n",
       "</style>\n",
       "<table border=\"1\" class=\"dataframe\">\n",
       "  <thead>\n",
       "    <tr style=\"text-align: right;\">\n",
       "      <th></th>\n",
       "      <th>currency</th>\n",
       "      <th>base_currency</th>\n",
       "      <th>currency_name</th>\n",
       "      <th>exchange_rate</th>\n",
       "      <th>date</th>\n",
       "    </tr>\n",
       "  </thead>\n",
       "  <tbody>\n",
       "  </tbody>\n",
       "</table>\n",
       "</div>"
      ],
      "text/plain": [
       "Empty DataFrame\n",
       "Columns: [currency, base_currency, currency_name, exchange_rate, date]\n",
       "Index: []"
      ]
     },
     "execution_count": 38,
     "metadata": {},
     "output_type": "execute_result"
    }
   ],
   "source": [
    "df.loc[df[\"currency_name\"].str.contains(\"korea\",case=False )]"
   ]
  },
  {
   "cell_type": "code",
   "execution_count": null,
   "id": "c4440110",
   "metadata": {},
   "outputs": [],
   "source": []
  },
  {
   "cell_type": "code",
   "execution_count": null,
   "id": "dc956034",
   "metadata": {},
   "outputs": [],
   "source": []
  },
  {
   "cell_type": "code",
   "execution_count": null,
   "id": "9e983f3f",
   "metadata": {},
   "outputs": [],
   "source": []
  },
  {
   "cell_type": "code",
   "execution_count": null,
   "id": "d3a4713d",
   "metadata": {},
   "outputs": [],
   "source": []
  },
  {
   "cell_type": "code",
   "execution_count": null,
   "id": "ae5a0d84",
   "metadata": {},
   "outputs": [],
   "source": []
  },
  {
   "cell_type": "code",
   "execution_count": null,
   "id": "e1f0640a",
   "metadata": {},
   "outputs": [],
   "source": []
  },
  {
   "cell_type": "code",
   "execution_count": null,
   "id": "5bd87409",
   "metadata": {},
   "outputs": [],
   "source": []
  },
  {
   "cell_type": "code",
   "execution_count": null,
   "id": "9419858f",
   "metadata": {},
   "outputs": [],
   "source": []
  },
  {
   "cell_type": "code",
   "execution_count": null,
   "id": "dc41adb3",
   "metadata": {},
   "outputs": [],
   "source": []
  },
  {
   "cell_type": "code",
   "execution_count": null,
   "id": "296b79e9",
   "metadata": {},
   "outputs": [],
   "source": []
  },
  {
   "cell_type": "code",
   "execution_count": null,
   "id": "23d5b37a",
   "metadata": {},
   "outputs": [],
   "source": []
  },
  {
   "cell_type": "code",
   "execution_count": null,
   "id": "6078c7b1",
   "metadata": {},
   "outputs": [],
   "source": []
  },
  {
   "cell_type": "code",
   "execution_count": null,
   "id": "b84b011f",
   "metadata": {},
   "outputs": [],
   "source": []
  },
  {
   "cell_type": "code",
   "execution_count": null,
   "id": "a23d869f",
   "metadata": {},
   "outputs": [],
   "source": []
  },
  {
   "cell_type": "code",
   "execution_count": null,
   "id": "5717848e",
   "metadata": {},
   "outputs": [],
   "source": [
    "\n"
   ]
  }
 ],
 "metadata": {
  "kernelspec": {
   "display_name": "Python 3 (ipykernel)",
   "language": "python",
   "name": "python3"
  },
  "language_info": {
   "codemirror_mode": {
    "name": "ipython",
    "version": 3
   },
   "file_extension": ".py",
   "mimetype": "text/x-python",
   "name": "python",
   "nbconvert_exporter": "python",
   "pygments_lexer": "ipython3",
   "version": "3.11.5"
  }
 },
 "nbformat": 4,
 "nbformat_minor": 5
}
